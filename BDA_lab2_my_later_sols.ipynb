{
  "nbformat": 4,
  "nbformat_minor": 0,
  "metadata": {
    "colab": {
      "provenance": [],
      "include_colab_link": true
    },
    "kernelspec": {
      "name": "python3",
      "display_name": "Python 3"
    },
    "language_info": {
      "name": "python"
    }
  },
  "cells": [
    {
      "cell_type": "markdown",
      "metadata": {
        "id": "view-in-github",
        "colab_type": "text"
      },
      "source": [
        "<a href=\"https://colab.research.google.com/github/dlygo/bda/blob/main/BDA_lab2_my_later_sols.ipynb\" target=\"_parent\"><img src=\"https://colab.research.google.com/assets/colab-badge.svg\" alt=\"Open In Colab\"/></a>"
      ]
    },
    {
      "cell_type": "markdown",
      "source": [
        "# BDA Lab 2"
      ],
      "metadata": {
        "id": "_IVCQrrG1xkk"
      }
    },
    {
      "cell_type": "markdown",
      "source": [
        "### In this race lab you are not allowed to use any built-in Python functions like `len`, `sum`, `max`, `range` etc. 😀\n",
        "\n",
        "You can create your own supporting functions, if necessary."
      ],
      "metadata": {
        "id": "okWxV7hrqj-s"
      }
    },
    {
      "cell_type": "markdown",
      "source": [
        "**🔉 This lab is a timed race, which means we will proceed through this tutorial together during the lab session, using a timer.**"
      ],
      "metadata": {
        "id": "lKEbiyJt9IvF"
      }
    },
    {
      "cell_type": "markdown",
      "source": [
        "# Warmup group 1"
      ],
      "metadata": {
        "id": "e8mHcvymzhit"
      }
    },
    {
      "cell_type": "markdown",
      "source": [
        "**Warmup 1**\n",
        "\n",
        "Create a list and print all its elements.\n",
        "\n",
        "`alist = [-10,-5,0,4,9]`\n"
      ],
      "metadata": {
        "id": "ggtxr1d9dgPN"
      }
    },
    {
      "cell_type": "code",
      "source": [
        "# Provide your solution here\n",
        "\n",
        "alist = [-10,-5,0,4,9]\n",
        "for i in alist:\n",
        "  print(i)\n"
      ],
      "metadata": {
        "colab": {
          "base_uri": "https://localhost:8080/"
        },
        "id": "IEqHsNQOdrls",
        "outputId": "34655e3a-6ffd-4578-e9d9-2993e8469d5a"
      },
      "execution_count": null,
      "outputs": [
        {
          "output_type": "stream",
          "name": "stdout",
          "text": [
            "-10\n",
            "-5\n",
            "0\n",
            "4\n",
            "9\n"
          ]
        }
      ]
    },
    {
      "cell_type": "markdown",
      "source": [
        "> What are the time and space complexities?\n",
        ">\n",
        "Time: O(n)\n",
        "\n",
        "Space: O(1)"
      ],
      "metadata": {
        "id": "1iPPFTJEeBUp"
      }
    },
    {
      "cell_type": "markdown",
      "source": [
        "**Warmup 2**\n",
        "\n",
        "Print the index numbers of the list.\n",
        "alist = [-10,-5,0,4,9]"
      ],
      "metadata": {
        "id": "0odD6c_TqNt5"
      }
    },
    {
      "cell_type": "code",
      "source": [
        "# Provide your solution here\n",
        "\n",
        "alist = [-10,-5,0,4,9]\n",
        "\n",
        "left = 0\n",
        "for i in alist:\n",
        "  print(left)\n",
        "  left+=1"
      ],
      "metadata": {
        "colab": {
          "base_uri": "https://localhost:8080/"
        },
        "id": "0s6V0k1rqV29",
        "outputId": "de6905e6-ce43-4d37-86de-513a62d7114f"
      },
      "execution_count": null,
      "outputs": [
        {
          "output_type": "stream",
          "name": "stdout",
          "text": [
            "0\n",
            "1\n",
            "2\n",
            "3\n",
            "4\n"
          ]
        }
      ]
    },
    {
      "cell_type": "markdown",
      "source": [
        "**Warmup 3**\n",
        "\n",
        "Create a list and print only the positive numbers or zeros.\n",
        "\n",
        "`alist = [-10,-5,0,4,9]`\n",
        "\n"
      ],
      "metadata": {
        "id": "mZxfViIpdu8U"
      }
    },
    {
      "cell_type": "code",
      "source": [
        "# Provide your solution here\n",
        "\n",
        "alist = [-10,-5,0,4,9]\n",
        "\n",
        "for i in alist:\n",
        "  if i>=0:\n",
        "    print(i)"
      ],
      "metadata": {
        "colab": {
          "base_uri": "https://localhost:8080/"
        },
        "id": "cuNwQtzSeFUv",
        "outputId": "a7dbe9d5-2a54-4d9f-903e-cdb6101e61cd"
      },
      "execution_count": null,
      "outputs": [
        {
          "output_type": "stream",
          "name": "stdout",
          "text": [
            "0\n",
            "4\n",
            "9\n"
          ]
        }
      ]
    },
    {
      "cell_type": "markdown",
      "source": [
        "> What are the time and space complexities?\n",
        ">\n",
        "Time: O(n)\n",
        "\n",
        "Space: O(1)"
      ],
      "metadata": {
        "id": "mI7XjasgeJ0k"
      }
    },
    {
      "cell_type": "markdown",
      "source": [
        "**Warmup 4**\n",
        "\n",
        "Export the positive numbers or zeros into a new list.\n",
        "\n",
        "`alist = [-10,-5,0,4,9]`"
      ],
      "metadata": {
        "id": "o2AvqWP6ePLm"
      }
    },
    {
      "cell_type": "code",
      "source": [
        "# Provide your solution here\n",
        "\n",
        "alist = [-10,-5,0,4,9]\n",
        "\n",
        "new_list = []\n",
        "\n",
        "for i in alist:\n",
        "  if i>=0:\n",
        "    new_list.append(i)\n",
        "print(new_list)"
      ],
      "metadata": {
        "colab": {
          "base_uri": "https://localhost:8080/"
        },
        "id": "HpydkJpweUVX",
        "outputId": "a77d1894-f143-4da4-d37a-e3181c64ebd4"
      },
      "execution_count": null,
      "outputs": [
        {
          "output_type": "stream",
          "name": "stdout",
          "text": [
            "[0, 4, 9]\n"
          ]
        }
      ]
    },
    {
      "cell_type": "markdown",
      "source": [
        "> What are the time and space complexities?\n",
        ">\n",
        "Time: O(n)\n",
        "\n",
        "Space: O(n) - new list is used"
      ],
      "metadata": {
        "id": "XBW9BFa_eaoV"
      }
    },
    {
      "cell_type": "markdown",
      "source": [
        "**Warmup 5**\n",
        "\n",
        "Find the average of a list of integers.\n",
        "* `alist = [-10,-5,0,4,9]`"
      ],
      "metadata": {
        "id": "2WCH2fNYfSmh"
      }
    },
    {
      "cell_type": "code",
      "source": [
        "# Provide your solution here\n",
        "\n",
        "alist = [-10,-5,0,4,9]\n",
        "\n",
        "count = 0\n",
        "sum = 0\n",
        "for i in alist:\n",
        "  sum += i\n",
        "  count+=1\n",
        "\n",
        "print(sum/count)"
      ],
      "metadata": {
        "colab": {
          "base_uri": "https://localhost:8080/"
        },
        "id": "YVg-3buRfXy3",
        "outputId": "ae2075d7-4442-43d7-b586-0d7373b8d6fe"
      },
      "execution_count": null,
      "outputs": [
        {
          "output_type": "stream",
          "name": "stdout",
          "text": [
            "-0.4\n"
          ]
        }
      ]
    },
    {
      "cell_type": "markdown",
      "source": [
        "> What are the time and space complexities?\n",
        ">\n",
        "Time: O(n)\n",
        "\n",
        "Space: O(1)"
      ],
      "metadata": {
        "id": "y9JwlsIygz1a"
      }
    },
    {
      "cell_type": "markdown",
      "source": [
        "**Warmup 6**"
      ],
      "metadata": {
        "id": "t7DrWe2QtkJt"
      }
    },
    {
      "cell_type": "markdown",
      "source": [
        "Find the max of a sorted list of positive integers."
      ],
      "metadata": {
        "id": "CylHqpsvhEoL"
      }
    },
    {
      "cell_type": "code",
      "source": [
        "# Provide your solution here\n",
        "\n",
        "alist = [4,6,8,10]\n",
        "\n",
        "print(alist[-1])"
      ],
      "metadata": {
        "colab": {
          "base_uri": "https://localhost:8080/"
        },
        "id": "lbB8xeudhT14",
        "outputId": "d96af6cd-43eb-4185-bcd0-37ba7ff56b60"
      },
      "execution_count": null,
      "outputs": [
        {
          "output_type": "stream",
          "name": "stdout",
          "text": [
            "10\n"
          ]
        }
      ]
    },
    {
      "cell_type": "markdown",
      "source": [
        "> What are the time and space complexities?\n",
        ">\n",
        "Time: O(1)\n",
        "\n",
        "Space: O(1)"
      ],
      "metadata": {
        "id": "I9Z-dP5mhb0C"
      }
    },
    {
      "cell_type": "markdown",
      "source": [
        "**Warmup 7**"
      ],
      "metadata": {
        "id": "cbNecGo2haCm"
      }
    },
    {
      "cell_type": "markdown",
      "source": [
        "Find the max of a list of positive integers."
      ],
      "metadata": {
        "id": "0ontsTzOtoL9"
      }
    },
    {
      "cell_type": "code",
      "source": [
        "# Even better cos with function!!!!\n",
        "\n",
        "\n",
        "def findMax(alist):\n",
        "  mymax=0\n",
        "  for i in alist:\n",
        "    if i>mymax:\n",
        "      mymax=i\n",
        "\n",
        "  return mymax\n",
        "\n",
        "alist = [4,6,8,10]\n",
        "findMax(alist)"
      ],
      "metadata": {
        "colab": {
          "base_uri": "https://localhost:8080/"
        },
        "id": "DmGUvutDtnBT",
        "outputId": "27f53ad7-ab0a-42e9-9615-e53c971b9b81"
      },
      "execution_count": null,
      "outputs": [
        {
          "output_type": "execute_result",
          "data": {
            "text/plain": [
              "10"
            ]
          },
          "metadata": {},
          "execution_count": 21
        }
      ]
    },
    {
      "cell_type": "markdown",
      "source": [
        "> What are the time and space complexities?\n",
        ">\n",
        "Time: O(n)\n",
        "\n",
        "Space: O(1)"
      ],
      "metadata": {
        "id": "EVG4qkSbg6tH"
      }
    },
    {
      "cell_type": "markdown",
      "source": [
        "# Exercises group 1"
      ],
      "metadata": {
        "id": "3QAw6qes0Y4m"
      }
    },
    {
      "cell_type": "markdown",
      "source": [
        "**E1.1**\n",
        "\n",
        "Print the list in reverse order.\n",
        "\n",
        "`alist = [-10,-5,0,4,9]`"
      ],
      "metadata": {
        "id": "aCya2f4nfFJU"
      }
    },
    {
      "cell_type": "code",
      "source": [
        "# Sol 1 - for loop\n",
        "\n",
        "alist = [-10,-5,0,4,9]\n",
        "\n",
        "def mylen(alist):\n",
        "  count=0\n",
        "  ret=[]\n",
        "  for i in alist:\n",
        "    count+=1\n",
        "    ret.append(alist[-count])\n",
        "  return ret\n",
        "\n",
        "mylen(alist)"
      ],
      "metadata": {
        "colab": {
          "base_uri": "https://localhost:8080/"
        },
        "id": "h4hV5c_1fFpF",
        "outputId": "dba63757-e7c3-4330-c45f-94f7114c9f4e"
      },
      "execution_count": null,
      "outputs": [
        {
          "output_type": "execute_result",
          "data": {
            "text/plain": [
              "[9, 4, 0, -5, -10]"
            ]
          },
          "metadata": {},
          "execution_count": 27
        }
      ]
    },
    {
      "cell_type": "code",
      "source": [
        "# Sol 2 - while loop\n",
        "\n",
        "def mylen(alist):\n",
        "  count=0\n",
        "  for i in alist:\n",
        "    count+=1\n",
        "  return count\n",
        "\n",
        "alist = [-10,-5,0,4,9]\n",
        "index = 1\n",
        "while index <= mylen(alist):\n",
        "  print(alist[-index])\n",
        "  index += 1"
      ],
      "metadata": {
        "colab": {
          "base_uri": "https://localhost:8080/"
        },
        "id": "B3NuPgoZwH8a",
        "outputId": "a0b2b35c-bb4d-4a35-f509-c8037f131abd"
      },
      "execution_count": null,
      "outputs": [
        {
          "output_type": "stream",
          "name": "stdout",
          "text": [
            "9\n",
            "4\n",
            "0\n",
            "-5\n",
            "-10\n"
          ]
        }
      ]
    },
    {
      "cell_type": "markdown",
      "source": [
        "> What are the time and space complexities?\n",
        ">\n",
        "for loop  -  Time: O(n) + Space: O(n)\n",
        "\n",
        "while loop - Time: O(n) + Space: O(1)"
      ],
      "metadata": {
        "id": "L1xCDxwlftmB"
      }
    },
    {
      "cell_type": "markdown",
      "source": [
        "**E1.2**\n",
        "\n",
        "Remove the negative numbers of a list.\n",
        "\n",
        "`alist = [-10,-5,0,4,9]`"
      ],
      "metadata": {
        "id": "dBxq9Pvmednh"
      }
    },
    {
      "cell_type": "markdown",
      "source": [
        "For this task you can use the following script:\n",
        "\n",
        "`for i in range(len(alist) - 1, -1, -1):`"
      ],
      "metadata": {
        "id": "0iXe11dTxO0l"
      }
    },
    {
      "cell_type": "code",
      "source": [
        "# Provide your solution here\n",
        "alist = [-10,-5,0,4,9]\n",
        "\n",
        "# i is the index..\n",
        "for i in range(len(alist)-1, -1, -1):\n",
        "  # print(i)\n",
        "  if alist[i] <= 0:\n",
        "    alist.pop(i)\n",
        "\n",
        "print(alist)\n",
        "\n"
      ],
      "metadata": {
        "colab": {
          "base_uri": "https://localhost:8080/"
        },
        "id": "qAI5cn9beikC",
        "outputId": "6d9dfe60-a216-4e44-b251-7443f24ebbda"
      },
      "execution_count": null,
      "outputs": [
        {
          "output_type": "stream",
          "name": "stdout",
          "text": [
            "[4, 9]\n"
          ]
        }
      ]
    },
    {
      "cell_type": "markdown",
      "source": [
        "> What are the time and space complexities?\n",
        ">\n",
        "Time: O(n)\n",
        "\n",
        "Space: O(1)"
      ],
      "metadata": {
        "id": "FmQoNhqkfwHg"
      }
    },
    {
      "cell_type": "markdown",
      "source": [
        "**E1.3**\n",
        "\n",
        "Write a program that prompts the user to enter a password.\n",
        "\n",
        "If the password is incorrect, keep prompting the user until they enter the correct password.\n",
        "\n",
        "* The correct password is `secret`."
      ],
      "metadata": {
        "id": "aqb6XG7YhB9v"
      }
    },
    {
      "cell_type": "code",
      "source": [
        "# Provide your solution here\n",
        "\n",
        "password = \"secret\"\n",
        "\n",
        "while True:\n",
        "    user_input = input(\"Enter the password: \")\n",
        "    if user_input == password:\n",
        "        print(\"Password accepted!\")\n",
        "        break\n",
        "    else:\n",
        "        print(\"Incorrect password. Try again.\")\n"
      ],
      "metadata": {
        "colab": {
          "base_uri": "https://localhost:8080/"
        },
        "id": "oHrAsC2NhCTp",
        "outputId": "368e4e69-c4da-4f00-9f62-c68f48e46411"
      },
      "execution_count": null,
      "outputs": [
        {
          "output_type": "stream",
          "name": "stdout",
          "text": [
            "Enter the password: ser\n",
            "Incorrect password. Try again.\n",
            "Enter the password: secret\n",
            "Password accepted!\n"
          ]
        }
      ]
    },
    {
      "cell_type": "markdown",
      "source": [
        "> What are the time and space complexities?\n",
        ">\n",
        "Time: Uknown\n",
        "\n",
        "Space: Irrelevant at is based on user input"
      ],
      "metadata": {
        "id": "D_RCzEX6hzqw"
      }
    },
    {
      "cell_type": "markdown",
      "source": [
        "**E1.4**\n",
        "\n",
        "Reverse elements of list.\n",
        "* `alist = [1,4,7,8]`\n",
        "\n",
        "You have to create your own `mylen` function for this task."
      ],
      "metadata": {
        "id": "K99nLvGCfxm1"
      }
    },
    {
      "cell_type": "code",
      "source": [
        "# sol 1\n",
        "\n",
        "alist = [1,4,7,8]\n",
        "\n",
        "def mylen(alist):\n",
        "\n",
        "  count = 0\n",
        "  reverse = []\n",
        "\n",
        "  for i in alist:\n",
        "    count+=1\n",
        "    reverse.append(alist[-count])\n",
        "  return reverse\n",
        "\n",
        "mylen(alist)\n"
      ],
      "metadata": {
        "colab": {
          "base_uri": "https://localhost:8080/"
        },
        "id": "t_cd88nKgRUd",
        "outputId": "18bdd864-bc09-4286-b043-bc095c408706"
      },
      "execution_count": null,
      "outputs": [
        {
          "output_type": "execute_result",
          "data": {
            "text/plain": [
              "[8, 7, 4, 1]"
            ]
          },
          "metadata": {},
          "execution_count": 15
        }
      ]
    },
    {
      "cell_type": "markdown",
      "source": [
        "##### Can you do it with time O(n) and space O(1)"
      ],
      "metadata": {
        "id": "a216pdF635_c"
      }
    },
    {
      "cell_type": "code",
      "source": [
        "# sol 2 - Google Gemini: https://gemini.google.com/app/e957a194a02d6905\n",
        "\n",
        "def mylen(data):\n",
        "  \"\"\"\n",
        "  Reverses the elements of a list in-place using two pointers.\n",
        "\n",
        "  Args:\n",
        "      data: A list of elements to be reversed.\n",
        "\n",
        "  Returns:\n",
        "      None (modifies the input list in-place).\n",
        "  \"\"\"\n",
        "  left_pointer = 0\n",
        "  right_pointer = len(data) - 1\n",
        "\n",
        "  # Iterate until the pointers meet or cross\n",
        "  while left_pointer < right_pointer:\n",
        "    # Swap elements using temporary storage\n",
        "    temp = data[left_pointer]\n",
        "    data[left_pointer] = data[right_pointer]\n",
        "    data[right_pointer] = temp\n",
        "\n",
        "    # Move pointers closer to the center\n",
        "    left_pointer += 1\n",
        "    right_pointer -= 1\n",
        "\n",
        "# Example usage\n",
        "data = [1, 4, 7, 8]\n",
        "mylen(data)\n",
        "print(data)  # Output: [8, 7, 4, 1]\n"
      ],
      "metadata": {
        "colab": {
          "base_uri": "https://localhost:8080/"
        },
        "outputId": "73c756d6-7b06-4fac-eee4-3b64913c805e",
        "id": "TCTZ4hvvzHFL"
      },
      "execution_count": null,
      "outputs": [
        {
          "output_type": "stream",
          "name": "stdout",
          "text": [
            "[8, 7, 4, 1]\n"
          ]
        }
      ]
    },
    {
      "cell_type": "markdown",
      "source": [
        "> **Hack** 🤔\n",
        ">\n",
        "> Create two pointers, one at 0 index and one at index 3.\n",
        "> Increase the first index while reducing the second index  at each iteration to achieve swappings.\n",
        ">\n",
        "> This will allow to use: time O(n) and space O(1)."
      ],
      "metadata": {
        "id": "i1PKZR_T4COE"
      }
    },
    {
      "cell_type": "markdown",
      "source": [
        "**In-place modification: This function modifies the original list (data) in-place by swapping elements directly. It doesn't return a new list.**\n",
        "\n",
        "\n",
        "The provided function achieves the desired complexity of time O(n) and space O(1). Here's a breakdown:\n",
        "\n",
        "\n",
        "**Time complexity (O(n)):**\n",
        "\n",
        "The while loop iterates a maximum of n/2 times (half the list length) because left_pointer and right_pointer converge towards the center.\n",
        "Each iteration involves constant time operations like assignments and comparisons.\n",
        "Therefore, the total time complexity is proportional to the number of elements (n) in the list.\n",
        "\n",
        "\n",
        "**Space complexity (O(1)):**\n",
        "\n",
        "The function only uses a constant amount of additional space for the three variables (left_pointer, right_pointer, and temp).\n",
        "This space usage does not depend on the input list size (n), making it constant.\n",
        "Therefore, the function mylen effectively reverses the list in-place with optimal time and space complexity.\n",
        "\n"
      ],
      "metadata": {
        "id": "snt85_T_5kPP"
      }
    },
    {
      "cell_type": "markdown",
      "source": [
        "# Exercises group 2"
      ],
      "metadata": {
        "id": "lcFbzckV0rh0"
      }
    },
    {
      "cell_type": "markdown",
      "source": [
        "**E2.1**\n",
        "\n",
        "Create a script to search a list for a specific key.\n",
        "- Print `True` and stop the search upon first occurrence of the key.\n",
        "- Otherwise, print `False`.\n",
        "- Print only once at the end."
      ],
      "metadata": {
        "id": "topkBl4uUsBm"
      }
    },
    {
      "cell_type": "code",
      "execution_count": null,
      "metadata": {
        "colab": {
          "base_uri": "https://localhost:8080/"
        },
        "id": "mLJSFNOlUoY1",
        "outputId": "183beb35-59ea-469e-da78-5edc22c8f9ca"
      },
      "outputs": [
        {
          "output_type": "stream",
          "name": "stdout",
          "text": [
            "False\n"
          ]
        }
      ],
      "source": [
        "# Provide your solution here\n",
        "\n",
        "alist = [10,20,30,40,50,60,70,80,90]\n",
        "key = 140\n",
        "\n",
        "# Provide your solution here\n",
        "found=False\n",
        "for i in alist:\n",
        "  if i==key:\n",
        "    found=True\n",
        "    break\n",
        "print(found)\n",
        "\n"
      ]
    },
    {
      "cell_type": "markdown",
      "source": [
        "> What are the time and space complexities?\n",
        ">\n",
        "\n",
        "Time: O(n)\n",
        "\n",
        "Space: O(1)"
      ],
      "metadata": {
        "id": "VbvDawQSW53z"
      }
    },
    {
      "cell_type": "markdown",
      "source": [
        "**E2.2**\n",
        "\n",
        "Create a function called `linearSearch` that accepts two arguments:\n",
        "- A list to search\n",
        "- A key to find\n",
        "- Return True or False at the end."
      ],
      "metadata": {
        "id": "lkcifAIQV1k-"
      }
    },
    {
      "cell_type": "code",
      "source": [
        "# Provide your solution here\n",
        "\n",
        "def linearSearch(arr,key):\n",
        "  found = False\n",
        "  for i in arr:\n",
        "    if i==key:\n",
        "      found = True\n",
        "  return found\n",
        "\n",
        "\n",
        "print(linearSearch(alist,40))\n",
        "print(linearSearch(alist,140))"
      ],
      "metadata": {
        "colab": {
          "base_uri": "https://localhost:8080/"
        },
        "id": "-urVywLJV1Hz",
        "outputId": "f110735a-2c1f-4675-8bfd-5a735a76dc43"
      },
      "execution_count": null,
      "outputs": [
        {
          "output_type": "stream",
          "name": "stdout",
          "text": [
            "True\n",
            "False\n"
          ]
        }
      ]
    },
    {
      "cell_type": "markdown",
      "source": [
        "**E2.3**\n",
        "\n",
        "Create a script to search a list for a specific key.\n",
        "- Print the index of the first key\n",
        "- stop the search upon first occurrence of the key.\n",
        "- Otherwise, print `-1`.\n",
        "- Print only once at the end.\n",
        "- Try for both key1=40 and key2=140"
      ],
      "metadata": {
        "id": "71U7Uq1nWWjG"
      }
    },
    {
      "cell_type": "code",
      "source": [
        "# Provide your solution here\n",
        "\n",
        "alist = [10,20,30,40,50,60,70,80,90]\n",
        "key1=40\n",
        "key2=140\n",
        "\n",
        "def search_key_index(alist,key):\n",
        "  index = 0\n",
        "  found = -1\n",
        "  for i in alist:\n",
        "    if i==key:\n",
        "      found = index\n",
        "    index+=1\n",
        "  return(found)\n",
        "\n",
        "print(search_key_index(alist,key1))\n",
        "print(search_key_index(alist,key2))"
      ],
      "metadata": {
        "colab": {
          "base_uri": "https://localhost:8080/"
        },
        "id": "Gd7R7LtfWVlp",
        "outputId": "61b8b8e3-46da-4e57-84fd-dd75fd3e6a0d"
      },
      "execution_count": null,
      "outputs": [
        {
          "output_type": "stream",
          "name": "stdout",
          "text": [
            "3\n",
            "-1\n"
          ]
        }
      ]
    },
    {
      "cell_type": "markdown",
      "source": [
        "> What are the time and space complexities?\n",
        ">\n",
        "Time: O(n)\n",
        "\n",
        "Space: O(1)"
      ],
      "metadata": {
        "id": "7oAhyhRPW9H7"
      }
    },
    {
      "cell_type": "markdown",
      "source": [
        "**E2.4**\n",
        "\n",
        "Create a script to search a list for a specific key.\n",
        "- Return all the indicies of the keys in the list.\n",
        "- Otherwise, return -1.\n",
        "- Try for both key1=40 and key2=140"
      ],
      "metadata": {
        "id": "aiXnNdinXI0j"
      }
    },
    {
      "cell_type": "code",
      "source": [
        "# Provide your solution here\n",
        "\n",
        "alist = [10,40,40,60]\n",
        "key1 = 40\n",
        "key2 = 140\n",
        "\n",
        "def searchKeys(alist,key):\n",
        "  index = 0\n",
        "  result = []\n",
        "  for i in alist:\n",
        "    if i==key:\n",
        "      result.append(index)\n",
        "    index+=1\n",
        "  return result if len(result)!=0 else -1\n",
        "\n",
        "print(searchKeys(alist,key1))\n",
        "print(searchKeys(alist,key2))"
      ],
      "metadata": {
        "colab": {
          "base_uri": "https://localhost:8080/"
        },
        "id": "eha__3trXZAu",
        "outputId": "4b6ddaee-1385-4f9e-d33d-89bc1b095a71"
      },
      "execution_count": null,
      "outputs": [
        {
          "output_type": "stream",
          "name": "stdout",
          "text": [
            "[1, 2]\n",
            "-1\n"
          ]
        }
      ]
    },
    {
      "cell_type": "markdown",
      "source": [
        "> What are the time and space complexities?\n",
        ">\n",
        "Time: O(n)\n",
        "\n",
        "Space: O(n)"
      ],
      "metadata": {
        "id": "pSAtfG2fYvac"
      }
    },
    {
      "cell_type": "markdown",
      "source": [
        "**E2.5**\n",
        "\n",
        "Create a function called `countKeys` to count how many times a key appears in a list.\n",
        "- Return the results in the form `{key:value}`. For example `{40:2}`, means key 40 exists 2 times."
      ],
      "metadata": {
        "id": "OAgfHa4OYdcc"
      }
    },
    {
      "cell_type": "code",
      "source": [
        "# Provide your solution here\n",
        "\n",
        "alist = [10,10,20,40,40,50]\n",
        "key1=40\n",
        "\n",
        "def countKeys(alist,key):\n",
        "  count=0\n",
        "  for i in alist:\n",
        "    if i==key:\n",
        "      count+=1\n",
        "  return({key:count})\n",
        "\n",
        "countKeys(alist,key1)\n"
      ],
      "metadata": {
        "colab": {
          "base_uri": "https://localhost:8080/"
        },
        "id": "8Sth5sBRYiS7",
        "outputId": "322c8433-0c0f-4c02-cb47-f723852c804f"
      },
      "execution_count": null,
      "outputs": [
        {
          "output_type": "execute_result",
          "data": {
            "text/plain": [
              "{40: 2}"
            ]
          },
          "metadata": {},
          "execution_count": 16
        }
      ]
    },
    {
      "cell_type": "markdown",
      "source": [
        "**E2.6**\n",
        "\n",
        "Create a script to swap two elements of a list.\n",
        "- The user will provide you a list and the two index values to swap.\n",
        "- Swap in place.\n",
        "\n",
        "For example:\n",
        "* [10,20,30,40]\n",
        "* index 1 = 0\n",
        "* index 2 = 3\n",
        "* Return [40,20,30,10]"
      ],
      "metadata": {
        "id": "qwRyi6ERaSuI"
      }
    },
    {
      "cell_type": "code",
      "source": [
        "# Provide your solution here\n",
        "\n",
        "def swapElementsIndex(alist, index1, index2):\n",
        "    if index1 < len(alist) and index2 < len(alist):\n",
        "        temp = alist[index1]\n",
        "        alist[index1]= alist[index2]\n",
        "        alist[index2]= temp\n",
        "    return alist\n",
        "\n",
        "swapElementsIndex([10,20,30,40], 0,3)"
      ],
      "metadata": {
        "colab": {
          "base_uri": "https://localhost:8080/"
        },
        "id": "BnZue29ubFTo",
        "outputId": "2744b638-5557-4468-ae55-1ee27f1742d5"
      },
      "execution_count": null,
      "outputs": [
        {
          "output_type": "execute_result",
          "data": {
            "text/plain": [
              "[40, 20, 30, 10]"
            ]
          },
          "metadata": {},
          "execution_count": 20
        }
      ]
    },
    {
      "cell_type": "markdown",
      "source": [
        "What are the time and space complexity?"
      ],
      "metadata": {
        "id": "w39eu3mlbbOT"
      }
    },
    {
      "cell_type": "markdown",
      "source": [
        "> What are the time and space complexities?\n",
        ">\n",
        "Time: O(1)\n",
        "\n",
        "Space: O(1)\n",
        "\n",
        "**In place swappings**"
      ],
      "metadata": {
        "id": "yDRrYlp5beUh"
      }
    },
    {
      "cell_type": "markdown",
      "source": [
        "**E2.7**\n",
        "\n",
        "Create a script to swap two elements of a list.\n",
        "- Swap only if both elements exist in the list.\n",
        "- The user will provide you a list and the two keys to search.\n",
        "\n",
        "For example:\n",
        "* [10,20,30,40]\n",
        "* key 1 = 10\n",
        "* key 2 = 40\n",
        "* Return [40,20,30,10]"
      ],
      "metadata": {
        "id": "cv3us4jYZG5L"
      }
    },
    {
      "cell_type": "code",
      "source": [
        "# Provide your solution here\n",
        "\n",
        "def swapElementsKeys(alist, key1, key2):\n",
        "  index1 = None\n",
        "  index2 = None\n",
        "  count = 0\n",
        "  for i in alist:\n",
        "    if i == key1:\n",
        "      index1 = count\n",
        "    elif i == key2:\n",
        "      index2 = count\n",
        "    count+=1\n",
        "\n",
        "    # Swap elements if both are found\n",
        "  if index1 != None and index2 != None:\n",
        "    temp = alist[index1]\n",
        "    alist[index1]= alist[index2]\n",
        "    alist[index2]= temp\n",
        "  return alist\n",
        "\n",
        "print(swapElementsKeys([10,20,30,40], 10,30))\n",
        "print(swapElementsKeys([10,20,30,40], 10,40))\n",
        "print(swapElementsKeys([10,20,30,40], 1,40))"
      ],
      "metadata": {
        "colab": {
          "base_uri": "https://localhost:8080/"
        },
        "id": "VhFbMdjMZZIH",
        "outputId": "997c116f-d767-4c49-f2f4-a1ecef14c565"
      },
      "execution_count": null,
      "outputs": [
        {
          "output_type": "stream",
          "name": "stdout",
          "text": [
            "[30, 20, 10, 40]\n",
            "[40, 20, 30, 10]\n",
            "[10, 20, 30, 40]\n"
          ]
        }
      ]
    },
    {
      "cell_type": "markdown",
      "source": [
        "What are the time and space complexity?"
      ],
      "metadata": {
        "id": "scgLT94IaOnk"
      }
    },
    {
      "cell_type": "markdown",
      "source": [
        "> What are the time and space complexities?\n",
        ">\n",
        "**Time: O(n)**\n",
        "\n",
        "**Space: O(1) - if we don't use an extra list (in-place swapping).**"
      ],
      "metadata": {
        "id": "oLz_-jK8aRxL"
      }
    },
    {
      "cell_type": "markdown",
      "source": [
        "**E2.8**\n",
        "\n",
        "Reverse a text."
      ],
      "metadata": {
        "id": "tiTk44nPbpXe"
      }
    },
    {
      "cell_type": "code",
      "source": [
        "# SOL 1\n",
        "\n",
        "def reverseText(text):\n",
        "    reversed_text = \"\"\n",
        "    for char in text:\n",
        "        reversed_text = char + reversed_text\n",
        "    return reversed_text\n",
        "\n",
        "print(reverseText(\"racecar\"))\n",
        "reverseText(\"Darek\")"
      ],
      "metadata": {
        "colab": {
          "base_uri": "https://localhost:8080/",
          "height": 52
        },
        "id": "T2Vx_LZ-bsdb",
        "outputId": "8207c74f-13e8-48a5-8a25-747ac40d9084"
      },
      "execution_count": null,
      "outputs": [
        {
          "output_type": "stream",
          "name": "stdout",
          "text": [
            "racecar\n"
          ]
        },
        {
          "output_type": "execute_result",
          "data": {
            "text/plain": [
              "'keraD'"
            ],
            "application/vnd.google.colaboratory.intrinsic+json": {
              "type": "string"
            }
          },
          "metadata": {},
          "execution_count": 28
        }
      ]
    },
    {
      "cell_type": "markdown",
      "source": [
        "> What are the time and space complexities?\n",
        ">\n",
        "Time: O(n)\n",
        "\n",
        "Space: O(n)"
      ],
      "metadata": {
        "id": "49nJPAtg7ZZj"
      }
    },
    {
      "cell_type": "markdown",
      "source": [
        "**E2.9**\n",
        "\n",
        "If you did not do it already, can you reverse the text using in-place swapping?"
      ],
      "metadata": {
        "id": "Qtzyg_0f7SPI"
      }
    },
    {
      "cell_type": "code",
      "source": [
        "# SOL 2 in-place swap\n",
        "\n",
        "def reverseTextSwappings(text):\n",
        "    text_list = list(text)\n",
        "    start = 0\n",
        "    end = len(text_list) - 1\n",
        "\n",
        "    while start < end:\n",
        "        text_list[start], text_list[end] = text_list[end], text_list[start]\n",
        "        start += 1\n",
        "        end -= 1\n",
        "\n",
        "    return ''.join(text_list)\n",
        "\n",
        "print(reverseTextSwappings(\"racecar\"))\n",
        "print(reverseTextSwappings(\"Darek\"))\n"
      ],
      "metadata": {
        "colab": {
          "base_uri": "https://localhost:8080/"
        },
        "id": "fCbOs5mD7BbT",
        "outputId": "c46e1777-af93-4f68-ae12-fb6e653e42d0"
      },
      "execution_count": null,
      "outputs": [
        {
          "output_type": "stream",
          "name": "stdout",
          "text": [
            "racecar\n",
            "keraD\n"
          ]
        }
      ]
    },
    {
      "cell_type": "markdown",
      "source": [
        "> What are the time and space complexities?\n",
        ">\n",
        "Time: O(n)\n",
        "\n",
        "Space: O(1)"
      ],
      "metadata": {
        "id": "TQY1SG577avg"
      }
    },
    {
      "cell_type": "markdown",
      "source": [
        "**E2.10**\n",
        "\n",
        "Check if two words are palindrome."
      ],
      "metadata": {
        "id": "-FD2pIrOcMXf"
      }
    },
    {
      "cell_type": "code",
      "source": [
        "# Provide your solution here\n",
        "\n",
        "def checkPalindrome(word1,word2):\n",
        "  if word1==reverseTextSwappings(word2):\n",
        "    return True\n",
        "  return False\n",
        "\n",
        "print(checkPalindrome('civic','civic'))\n",
        "print(checkPalindrome('abc','abc'))\n",
        "print(checkPalindrome('kayak','kayak'))\n"
      ],
      "metadata": {
        "colab": {
          "base_uri": "https://localhost:8080/"
        },
        "id": "YXsSyqqghVZ1",
        "outputId": "18337bfc-13f0-4d2b-b1a7-c0aeef62e95d"
      },
      "execution_count": null,
      "outputs": [
        {
          "output_type": "stream",
          "name": "stdout",
          "text": [
            "True\n",
            "False\n",
            "True\n"
          ]
        }
      ]
    },
    {
      "cell_type": "markdown",
      "source": [
        "# Exercises group 3"
      ],
      "metadata": {
        "id": "6qo7nz1R8Jd1"
      }
    },
    {
      "cell_type": "markdown",
      "source": [
        "**Binary Search**\n",
        "\n",
        "Develop the binary search function."
      ],
      "metadata": {
        "id": "6BopbA8pi9XS"
      }
    },
    {
      "cell_type": "code",
      "source": [
        "# Provide your solution here\n",
        "\n",
        "def binary_search(arr, target):\n",
        "    left, right = 0, len(arr) - 1\n",
        "\n",
        "    while left <= right:\n",
        "        mid = left + (right - left) // 2\n",
        "        if arr[mid] == target:\n",
        "            return mid\n",
        "        elif arr[mid] < target:\n",
        "            left = mid + 1\n",
        "        else:\n",
        "            right = mid - 1\n",
        "\n",
        "    return -1\n",
        "\n",
        "arr = [2, 3, 5, 7, 11, 13, 17, 19]\n",
        "target = 11\n",
        "result = binary_search(arr, target)\n",
        "print(result)"
      ],
      "metadata": {
        "colab": {
          "base_uri": "https://localhost:8080/"
        },
        "id": "8WmjM-Zti_4Q",
        "outputId": "b2d9a39d-303e-4872-ce19-1ab62104ff81"
      },
      "execution_count": null,
      "outputs": [
        {
          "output_type": "stream",
          "name": "stdout",
          "text": [
            "4\n"
          ]
        }
      ]
    },
    {
      "cell_type": "markdown",
      "source": [
        "> What are the time and space complexities?\n",
        ">\n",
        "Time: O(logn)\n",
        "\n",
        "Space: O(1)"
      ],
      "metadata": {
        "id": "w9YqwaHmjQDZ"
      }
    },
    {
      "cell_type": "markdown",
      "source": [
        "**Two sum problem**\n",
        "\n",
        "* Given an array of integers nums and an integer target, return indices of the two numbers such that they add up to target.\n",
        "\n",
        "* You may assume that each input would have exactly one solution, and you may not use the same element twice.\n",
        "\n",
        "* You can return the answer in any order.\n",
        "\n",
        "(Google interview question)"
      ],
      "metadata": {
        "id": "zqr99Pyoj1Rw"
      }
    },
    {
      "cell_type": "code",
      "source": [
        "# Provide your solution here\n",
        "\n",
        "def twoSumBruteForce(nums, target):\n",
        "  for i in range(len(nums)):\n",
        "    for j in range(i+1, len(nums)):\n",
        "      if nums[i] + nums[j] == target:\n",
        "        return [i, j]\n",
        "  return []\n",
        "\n",
        "twoSumBruteForce([2,7,11,15],9)"
      ],
      "metadata": {
        "colab": {
          "base_uri": "https://localhost:8080/"
        },
        "id": "PUaLkqwLj3DT",
        "outputId": "b692e89e-b43a-408f-ab94-562414790e36"
      },
      "execution_count": null,
      "outputs": [
        {
          "output_type": "execute_result",
          "data": {
            "text/plain": [
              "[0, 1]"
            ]
          },
          "metadata": {},
          "execution_count": 38
        }
      ]
    },
    {
      "cell_type": "markdown",
      "source": [
        "**Hash map**\n",
        "\n",
        "* Hint!\n",
        "\n",
        "Use a set to store values as you go."
      ],
      "metadata": {
        "id": "VmvMEvofkzOw"
      }
    },
    {
      "cell_type": "code",
      "source": [
        "# Provide your solution here\n",
        "\n",
        "def twoSumHash(nums, target):\n",
        "  numMap = {}\n",
        "  for i, num in enumerate(nums):\n",
        "      complement = target - num\n",
        "      if complement in numMap:\n",
        "        return [numMap[complement], i]\n",
        "      numMap[num] = i\n",
        "  return []\n",
        "\n",
        "twoSumHash([2,7,11,15],9)"
      ],
      "metadata": {
        "colab": {
          "base_uri": "https://localhost:8080/"
        },
        "id": "42RftF8YkNTm",
        "outputId": "528a1a91-efdf-4be2-8484-3936218ee7c4"
      },
      "execution_count": null,
      "outputs": [
        {
          "output_type": "execute_result",
          "data": {
            "text/plain": [
              "[0, 1]"
            ]
          },
          "metadata": {},
          "execution_count": 40
        }
      ]
    },
    {
      "cell_type": "markdown",
      "source": [
        "Time Complexity: O(n), This approach iterates over the array only once, and for each element, it checks whether its complement exists in the hash map. The insertion and lookup time for a hash map is O(1) on average, so the overall time complexity for traversing the array once is O(n).\n",
        "\n",
        "Space Complexity: O(n), Similar to the Two-Pass Hash Table Approach, a hash map is used to store the elements and their indices. The space complexity is O(n) as the space required for the hash map grows with the number of elements in the array."
      ],
      "metadata": {
        "id": "T8gT8-krk5OM"
      }
    },
    {
      "cell_type": "markdown",
      "source": [
        "**List to frequency dictionary**\n",
        "\n"
      ],
      "metadata": {
        "id": "crRgG5TgoGek"
      }
    },
    {
      "cell_type": "markdown",
      "source": [
        "Given an unsorted list of some elements(which may or may not be integers), find the frequency of each distinct element in the list using a dictionary."
      ],
      "metadata": {
        "id": "v1gmuyZypmi8"
      }
    },
    {
      "cell_type": "code",
      "source": [
        "alist = [10,10,20,20,20,30]\n",
        "freq = {}\n",
        "\n",
        "# Provide your solution here\n",
        "\n",
        "for i in alist:\n",
        "  if i not in freq:\n",
        "    freq[i]=1\n",
        "  else:\n",
        "    freq[i]+=1\n",
        "print(freq)\n"
      ],
      "metadata": {
        "colab": {
          "base_uri": "https://localhost:8080/"
        },
        "id": "EB7W3IVeoLol",
        "outputId": "23b01926-66a3-4015-b1a3-6aff53857275"
      },
      "execution_count": null,
      "outputs": [
        {
          "output_type": "stream",
          "name": "stdout",
          "text": [
            "{10: 2, 20: 3, 30: 1}\n"
          ]
        }
      ]
    },
    {
      "cell_type": "markdown",
      "source": [
        "> What are the time and space complexities?\n",
        ">\n",
        "O(n), where n is the length of the list"
      ],
      "metadata": {
        "id": "k2hzLDyzpwmj"
      }
    },
    {
      "cell_type": "markdown",
      "source": [
        "the end"
      ],
      "metadata": {
        "id": "x50mETCvXy-c"
      }
    }
  ]
}