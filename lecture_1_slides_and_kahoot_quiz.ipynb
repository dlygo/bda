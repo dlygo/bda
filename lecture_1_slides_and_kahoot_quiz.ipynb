{
  "nbformat": 4,
  "nbformat_minor": 0,
  "metadata": {
    "colab": {
      "provenance": [],
      "authorship_tag": "ABX9TyPBs9c5Axx6yXKqW0BLsU/5",
      "include_colab_link": true
    },
    "kernelspec": {
      "name": "python3",
      "display_name": "Python 3"
    },
    "language_info": {
      "name": "python"
    }
  },
  "cells": [
    {
      "cell_type": "markdown",
      "metadata": {
        "id": "view-in-github",
        "colab_type": "text"
      },
      "source": [
        "<a href=\"https://colab.research.google.com/github/dlygo/bda/blob/main/lecture_1_slides_and_kahoot_quiz.ipynb\" target=\"_parent\"><img src=\"https://colab.research.google.com/assets/colab-badge.svg\" alt=\"Open In Colab\"/></a>"
      ]
    },
    {
      "cell_type": "markdown",
      "source": [
        "**kahoot quiz during lecture 1**\n"
      ],
      "metadata": {
        "id": "slqHKIdSvGee"
      }
    },
    {
      "cell_type": "code",
      "execution_count": null,
      "metadata": {
        "id": "yDnW46_Vt3oR",
        "colab": {
          "base_uri": "https://localhost:8080/"
        },
        "outputId": "8a71d8f9-8642-4a0d-d173-55dc37430ba3"
      },
      "outputs": [
        {
          "output_type": "stream",
          "name": "stdout",
          "text": [
            "3\n"
          ]
        }
      ],
      "source": [
        "data = [10,20,30,40]\n",
        "for i in range(len(data)):\n",
        "  if data[i]>30:\n",
        "    print(i)\n"
      ]
    },
    {
      "cell_type": "code",
      "source": [
        "data = [10,20,30,40]\n",
        "for i in range(len(data)):\n",
        "  if data[i]>20:\n",
        "    print(data[i])"
      ],
      "metadata": {
        "colab": {
          "base_uri": "https://localhost:8080/"
        },
        "id": "xiYJ4xomniCN",
        "outputId": "0dfe2493-11bb-4e6e-8470-77ed3f4c8861"
      },
      "execution_count": null,
      "outputs": [
        {
          "output_type": "stream",
          "name": "stdout",
          "text": [
            "30\n",
            "40\n"
          ]
        }
      ]
    },
    {
      "cell_type": "code",
      "source": [
        "def foo(arr):\n",
        "  x=0\n",
        "  for num in arr:\n",
        "    x+=num\n",
        "    return x\n",
        "\n",
        "if __name__ == \"__main__\":\n",
        "  data = [1,2,3]\n",
        "  print(foo(data))\n"
      ],
      "metadata": {
        "colab": {
          "base_uri": "https://localhost:8080/"
        },
        "id": "AglvwMzYn6DP",
        "outputId": "0941eb60-49ed-4000-f93c-833d6da0e55e"
      },
      "execution_count": null,
      "outputs": [
        {
          "output_type": "stream",
          "name": "stdout",
          "text": [
            "1\n"
          ]
        }
      ]
    },
    {
      "cell_type": "code",
      "source": [
        "nums = [1,2,3,4]\n",
        "\n",
        "temp = nums[len(nums)-1]\n",
        "nums[len(nums)-1] = nums[0]\n",
        "nums[0] = temp\n",
        "\n",
        "print(nums)"
      ],
      "metadata": {
        "colab": {
          "base_uri": "https://localhost:8080/"
        },
        "id": "Xfk6B3TcpcgW",
        "outputId": "a30fad2e-7000-4d5e-93f9-64291f10ff17"
      },
      "execution_count": null,
      "outputs": [
        {
          "output_type": "stream",
          "name": "stdout",
          "text": [
            "[4, 2, 3, 1]\n"
          ]
        }
      ]
    },
    {
      "cell_type": "code",
      "source": [
        "nums = \"Stelios\" #strings are immutable, so it doesnt work\n",
        "\n",
        "temp = nums[len(nums)-1]\n",
        "nums[len(nums)-1] = nums[0]\n",
        "nums[0] = temp\n",
        "\n",
        "print(nums)"
      ],
      "metadata": {
        "colab": {
          "base_uri": "https://localhost:8080/",
          "height": 221
        },
        "id": "rIbj8cphqD9V",
        "outputId": "bedbc7ce-eae5-49b3-a866-03b54d598592"
      },
      "execution_count": null,
      "outputs": [
        {
          "output_type": "error",
          "ename": "TypeError",
          "evalue": "'str' object does not support item assignment",
          "traceback": [
            "\u001b[0;31m---------------------------------------------------------------------------\u001b[0m",
            "\u001b[0;31mTypeError\u001b[0m                                 Traceback (most recent call last)",
            "\u001b[0;32m<ipython-input-8-8375b1fcf47a>\u001b[0m in \u001b[0;36m<cell line: 4>\u001b[0;34m()\u001b[0m\n\u001b[1;32m      2\u001b[0m \u001b[0;34m\u001b[0m\u001b[0m\n\u001b[1;32m      3\u001b[0m \u001b[0mtemp\u001b[0m \u001b[0;34m=\u001b[0m \u001b[0mnums\u001b[0m\u001b[0;34m[\u001b[0m\u001b[0mlen\u001b[0m\u001b[0;34m(\u001b[0m\u001b[0mnums\u001b[0m\u001b[0;34m)\u001b[0m\u001b[0;34m-\u001b[0m\u001b[0;36m1\u001b[0m\u001b[0;34m]\u001b[0m\u001b[0;34m\u001b[0m\u001b[0;34m\u001b[0m\u001b[0m\n\u001b[0;32m----> 4\u001b[0;31m \u001b[0mnums\u001b[0m\u001b[0;34m[\u001b[0m\u001b[0mlen\u001b[0m\u001b[0;34m(\u001b[0m\u001b[0mnums\u001b[0m\u001b[0;34m)\u001b[0m\u001b[0;34m-\u001b[0m\u001b[0;36m1\u001b[0m\u001b[0;34m]\u001b[0m \u001b[0;34m=\u001b[0m \u001b[0mnums\u001b[0m\u001b[0;34m[\u001b[0m\u001b[0;36m0\u001b[0m\u001b[0;34m]\u001b[0m\u001b[0;34m\u001b[0m\u001b[0;34m\u001b[0m\u001b[0m\n\u001b[0m\u001b[1;32m      5\u001b[0m \u001b[0mnums\u001b[0m\u001b[0;34m[\u001b[0m\u001b[0;36m0\u001b[0m\u001b[0;34m]\u001b[0m \u001b[0;34m=\u001b[0m \u001b[0mtemp\u001b[0m\u001b[0;34m\u001b[0m\u001b[0;34m\u001b[0m\u001b[0m\n\u001b[1;32m      6\u001b[0m \u001b[0;34m\u001b[0m\u001b[0m\n",
            "\u001b[0;31mTypeError\u001b[0m: 'str' object does not support item assignment"
          ]
        }
      ]
    },
    {
      "cell_type": "code",
      "source": [
        "arr = [ [10,20], [30,40] ]\n",
        "\n",
        "n = len(arr)\n",
        "for i in range(n):\n",
        "  for j in range(0, n-1):\n",
        "    last = (i,j)\n",
        "\n",
        "print(last)"
      ],
      "metadata": {
        "colab": {
          "base_uri": "https://localhost:8080/"
        },
        "id": "StZyw54Gqio0",
        "outputId": "b0c68087-55b3-4ac7-ca6a-4bce66b2b7e9"
      },
      "execution_count": null,
      "outputs": [
        {
          "output_type": "stream",
          "name": "stdout",
          "text": [
            "(1, 0)\n"
          ]
        }
      ]
    },
    {
      "cell_type": "markdown",
      "source": [
        "\n",
        "**lecture 1 slides**"
      ],
      "metadata": {
        "id": "CoSIoYPRu9_B"
      }
    },
    {
      "cell_type": "code",
      "source": [
        "\n",
        "  arr = [1, 5, 2, 8]\n",
        "  results = []\n",
        "  for number in arr:\n",
        "      if number >= 5:\n",
        "         results.append(number)\n",
        "  print(results)"
      ],
      "metadata": {
        "colab": {
          "base_uri": "https://localhost:8080/"
        },
        "id": "syna6SmzvC-T",
        "outputId": "ca616bb1-20f0-489e-d5a0-30d5d4a5ec5d"
      },
      "execution_count": null,
      "outputs": [
        {
          "output_type": "stream",
          "name": "stdout",
          "text": [
            "[5, 8]\n"
          ]
        }
      ]
    },
    {
      "cell_type": "code",
      "source": [
        "arr = [1, 5, 2, 8]  # Original list\n",
        "\n",
        "for i in range(len(arr)-1, -1, -1):  # Loop in reverse order\n",
        "    if arr[i] < 5:\n",
        "        arr.pop(i)  # Remove element at index i if it's less than 5\n",
        "\n",
        "print(arr)  # Print the modified list\n"
      ],
      "metadata": {
        "colab": {
          "base_uri": "https://localhost:8080/"
        },
        "id": "DsF3wW8OverQ",
        "outputId": "9b6e8078-06e4-4a8d-f84a-ef54ea9fc4a3"
      },
      "execution_count": null,
      "outputs": [
        {
          "output_type": "stream",
          "name": "stdout",
          "text": [
            "[5, 8]\n"
          ]
        }
      ]
    },
    {
      "cell_type": "markdown",
      "source": [
        "Explanation:\n",
        "\n",
        "Initialization:\n",
        "\n",
        "The code starts by defining a list arr with the values [1, 5, 2, 8].\n",
        "Reverse Loop:\n",
        "\n",
        "The for loop iterates through the list arr. However, it uses a special syntax range(len(arr)-1, -1, -1) to achieve this:\n",
        "len(arr)-1: This sets the starting index to the length of the list minus 1, which is the last element's index.\n",
        "-1: This is the ending index, but since it's negative, the loop won't actually reach it.\n",
        "-1: This is the step value. A negative step value indicates iterating in reverse order.\n",
        "Conditional Removal:\n",
        "\n",
        "Inside the loop, the code checks if the element at the current index (i) is less than 5 using the condition if arr[i] < 5.\n",
        "If the condition is true, the pop(i) method is called on the list arr. This method removes the element at the specified index (i) from the list and returns the removed element (which is discarded here).\n",
        "Preserving Order by Looping Backwards:\n",
        "\n",
        "By looping in reverse order, the elements are checked from the end of the list towards the beginning. This ensures that removing an element doesn't shift the indices of subsequent elements, which would happen in a forward loop.\n",
        "Printing the Modified List:\n",
        "\n",
        "After the loop completes, the modified list arr is printed using print(arr). In this case, the output will be [5, 8], as all elements less than 5 have been removed.\n",
        "Key Points:\n",
        "\n",
        "This code snippet demonstrates a clever way to modify a list in-place while preserving the order of elements greater than a certain threshold.\n",
        "It's important to be cautious when modifying lists within a loop, especially when using methods like pop or remove in a forward loop, as they can lead to unexpected index shifts. In such cases, consider creating a new list or using reverse iteration."
      ],
      "metadata": {
        "id": "8f6t02MPwxaH"
      }
    },
    {
      "cell_type": "code",
      "source": [
        "def linearSearch(arr,key):\n",
        "  for i in arr:\n",
        "    if i==key:\n",
        "      return True\n",
        "  return False"
      ],
      "metadata": {
        "id": "U60GuDyTvsr8"
      },
      "execution_count": null,
      "outputs": []
    },
    {
      "cell_type": "code",
      "source": [
        "def binary_search(arr, target):\n",
        "    left, right = 0, len(arr) - 1\n",
        "    while left <= right:\n",
        "        mid = left + (right - left) // 2\n",
        "        if arr[mid] == target:\n",
        "            return mid\n",
        "        elif arr[mid] < target:\n",
        "            left = mid + 1\n",
        "        else:\n",
        "            right = mid - 1\n",
        "    return -1"
      ],
      "metadata": {
        "id": "Z1KrOyoyWV3z"
      },
      "execution_count": null,
      "outputs": []
    }
  ]
}