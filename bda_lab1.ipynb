{
  "nbformat": 4,
  "nbformat_minor": 0,
  "metadata": {
    "colab": {
      "provenance": [],
      "mount_file_id": "16IxUyPBQ-p9lJY1i9bYSrQY5_kZrskuF",
      "authorship_tag": "ABX9TyOOi3sIRVocQayVYN3JrGG5",
      "include_colab_link": true
    },
    "kernelspec": {
      "name": "python3",
      "display_name": "Python 3"
    },
    "language_info": {
      "name": "python"
    }
  },
  "cells": [
    {
      "cell_type": "markdown",
      "metadata": {
        "id": "view-in-github",
        "colab_type": "text"
      },
      "source": [
        "<a href=\"https://colab.research.google.com/github/dlygo/bda/blob/main/bda_lab1.ipynb\" target=\"_parent\"><img src=\"https://colab.research.google.com/assets/colab-badge.svg\" alt=\"Open In Colab\"/></a>"
      ]
    },
    {
      "cell_type": "markdown",
      "source": [
        "**BDA Seminar 1 - Part 1 & 2**\n",
        "Complete the following exercises on computational complexity.\n",
        "\n",
        "1. Study the following script. This program implements a linear_search(arr, x) function that returns element x's index in the list arr. If x is not found, it returns -1."
      ],
      "metadata": {
        "id": "Nj9o6R3XqEvF"
      }
    },
    {
      "cell_type": "code",
      "source": [
        "def linear_search(arr, x):\n",
        "    for i in range(len(arr)):\n",
        "        if arr[i] == x:\n",
        "            return i\n",
        "    return -1\n",
        "\n",
        "if __name__ == \"__main__\":\n",
        "  data = [10,20,30,40,50,50,60,80,90,100]\n",
        "  result = linear_search(data,40)\n",
        "  print(result)"
      ],
      "metadata": {
        "colab": {
          "base_uri": "https://localhost:8080/"
        },
        "id": "7RdfAf5Si4Zj",
        "outputId": "4510989f-8285-400f-f77b-164220388c05"
      },
      "execution_count": null,
      "outputs": [
        {
          "output_type": "stream",
          "name": "stdout",
          "text": [
            "3\n"
          ]
        }
      ]
    },
    {
      "cell_type": "markdown",
      "source": [
        "2. Now, let's put your understanding to the test. Can you determine the time complexity of the above script?\n",
        "**Provide your answer here: O(n)**\n",
        "\n",
        "3. What is the space complexity of the above script?\n",
        "**Provide your answer here: O(1)**\n",
        "\n",
        "\n",
        "4. Is this a computationally or data-intensive task?\n",
        "**Provide your answer here: computationally**\n",
        "\n",
        "**If the array size becomes very large, the task can become computationally intensive due to the time complexity of O(n).\n",
        "The space complexity remains constant O(1), so it does not become data-intensive with larger inputs.**\n",
        "\n",
        "\n",
        "\n",
        "Tip\n",
        "Start using the conditional statement when creating programs. if __name__ == \"__main__\"\n",
        "This block often includes test code, demonstration code, or main application logic that you don't want to run if the file is imported as a module in another script."
      ],
      "metadata": {
        "id": "RqhEKOlukqE8"
      }
    },
    {
      "cell_type": "markdown",
      "source": [
        "5. What is the time complexity of the following code?\n"
      ],
      "metadata": {
        "id": "4zbHks5Kl6aq"
      }
    },
    {
      "cell_type": "code",
      "source": [
        "if __name__ == \"__main__\":\n",
        "  data = [10,20,30,40,50,50,60,80,90,100]\n",
        "  print(data[-1])"
      ],
      "metadata": {
        "colab": {
          "base_uri": "https://localhost:8080/"
        },
        "id": "lyxpS7Vmls1S",
        "outputId": "4b8d46a5-c6c6-4221-ca68-0932cee67242"
      },
      "execution_count": null,
      "outputs": [
        {
          "output_type": "stream",
          "name": "stdout",
          "text": [
            "100\n"
          ]
        }
      ]
    },
    {
      "cell_type": "markdown",
      "source": [
        "**Provide your answer here: O(1) - it always prints the last element.**\n",
        "\n",
        "\n",
        "6. What is the time complexity of the following code?\n"
      ],
      "metadata": {
        "id": "mM2y6iCXmKfh"
      }
    },
    {
      "cell_type": "code",
      "source": [
        "def get_it(arr):\n",
        "    for i in arr:\n",
        "      return i\n",
        "\n",
        "if __name__ == \"__main__\":\n",
        "  data = [10,20,30,40,50,50,60,80,90,100]\n",
        "  print(get_it(data))"
      ],
      "metadata": {
        "colab": {
          "base_uri": "https://localhost:8080/"
        },
        "id": "kUJuDxN-mIOJ",
        "outputId": "88600cdf-f4e5-48e5-aab7-231fd4523850"
      },
      "execution_count": null,
      "outputs": [
        {
          "output_type": "stream",
          "name": "stdout",
          "text": [
            "10\n"
          ]
        }
      ]
    },
    {
      "cell_type": "markdown",
      "source": [
        "**Provide your answer here: O(1) - it always gets the first element.**\n",
        "\n",
        "the loop runs only once and prints the first element of array/data, so both the time and space complexity is O(1)\n",
        "\n",
        "\n",
        "**6.a. Below: **\n",
        "\n",
        "small change, but now it prints all elements of data , so time complexity is **O(n)** here:"
      ],
      "metadata": {
        "id": "AfIzZz0l7tvX"
      }
    },
    {
      "cell_type": "code",
      "source": [
        "def get_it(arr):\n",
        "    for i in arr:\n",
        "      print(i)\n",
        "    return i\n",
        "\n",
        "if __name__ == \"__main__\":\n",
        "  data = [10,20,30,40,50,50,60,80,90,100]\n",
        "  print(get_it(data))"
      ],
      "metadata": {
        "colab": {
          "base_uri": "https://localhost:8080/"
        },
        "outputId": "3554a21e-abdb-4164-8adc-1f30218c71e8",
        "id": "8fwXN4f17mER"
      },
      "execution_count": null,
      "outputs": [
        {
          "output_type": "stream",
          "name": "stdout",
          "text": [
            "10\n",
            "20\n",
            "30\n",
            "40\n",
            "50\n",
            "50\n",
            "60\n",
            "80\n",
            "90\n",
            "100\n",
            "100\n"
          ]
        }
      ]
    },
    {
      "cell_type": "markdown",
      "source": [
        "7. What is the time complexity of the following code?"
      ],
      "metadata": {
        "id": "EwG5xKVnmmVm"
      }
    },
    {
      "cell_type": "code",
      "source": [
        "def sum_elements(arr):\n",
        "    total = 0\n",
        "    for num in arr:\n",
        "        total += num\n",
        "    return total\n",
        "\n",
        "if __name__ == \"__main__\":\n",
        "  data = [10,20,30,40,50,50,60,80,90,100]\n",
        "  print(sum_elements(data))"
      ],
      "metadata": {
        "colab": {
          "base_uri": "https://localhost:8080/"
        },
        "id": "KoBHCb0smDwh",
        "outputId": "2d285e3c-8f57-4646-a776-e5ba697d3563"
      },
      "execution_count": null,
      "outputs": [
        {
          "output_type": "stream",
          "name": "stdout",
          "text": [
            "530\n"
          ]
        }
      ]
    },
    {
      "cell_type": "markdown",
      "source": [
        "**Provide your answer here: time O(n) - It computes the sum of all integers in a given list** but space O(1).\n",
        "\n",
        "8. Is this a computationally or data-intensive task?\n",
        "**Provide your answer here: computionally**\n",
        "\n",
        "\n",
        "9. What is the time complexity of the following code?"
      ],
      "metadata": {
        "id": "ZXKsBlK2nQmm"
      }
    },
    {
      "cell_type": "code",
      "source": [
        "def count_lines(filename):\n",
        "  count=0\n",
        "  with open(filename, 'r') as file:\n",
        "    for line in file:\n",
        "      count+=1\n",
        "\n",
        "  return count\n",
        "\n",
        "if __name__ == \"__main__\":\n",
        "  filename = '/content/drive/MyDrive/BDA_2024/BDA_lab_1/file1.txt'\n",
        "  try:\n",
        "      counts = count_lines(filename)\n",
        "      print(\"Line counts:\", counts)\n",
        "  except FileNotFoundError:\n",
        "      print(\"File not found\")"
      ],
      "metadata": {
        "id": "479M528rsbPx",
        "colab": {
          "base_uri": "https://localhost:8080/"
        },
        "outputId": "abdf955b-3a81-445c-a3a1-1ec73657f585"
      },
      "execution_count": null,
      "outputs": [
        {
          "output_type": "stream",
          "name": "stdout",
          "text": [
            "Line counts: 8\n"
          ]
        }
      ]
    },
    {
      "cell_type": "markdown",
      "source": [
        "**Provide your answer here:\n",
        "time O(n) - It computes the sum of all integers in a given list.**\n",
        "\n",
        "Important\n",
        "\n",
        "❗To execute the script, ensure that the file1.txt is in the same directory as your Python script.\n",
        "\n",
        "10. What is the space complexity of the above code?\n",
        "**O(1)**\n",
        "\n",
        "11. Is this a computationally or data-intensive task?\n",
        "**Data (Input/Output)**\n"
      ],
      "metadata": {
        "id": "rxesqpD6HeuX"
      }
    },
    {
      "cell_type": "markdown",
      "source": [
        "12.a.\n",
        "Compare the following scripts; which one do you prefer and why?"
      ],
      "metadata": {
        "id": "PncZevRT_iE_"
      }
    },
    {
      "cell_type": "code",
      "source": [
        "def reverse1(data):\n",
        "  reverse=[]\n",
        "  for i in range(len(data) - 1, -1, -1):\n",
        "    reverse.append(data[i])\n",
        "  return reverse\n",
        "\n",
        "def reverse2(data):\n",
        "    left, right = 0, len(data) - 1\n",
        "    while left < right:\n",
        "        # Swap the elements at the left and right indices\n",
        "        data[left], data[right] = data[right], data[left]\n",
        "        left += 1\n",
        "        right -= 1\n",
        "    return data\n",
        "\n",
        "if __name__ == \"__main__\":\n",
        "  print(reverse1([1,2,3,4,5]))\n",
        "  print(reverse2([1,2,3,4,5]))"
      ],
      "metadata": {
        "id": "PC_D4wKB_uQo",
        "colab": {
          "base_uri": "https://localhost:8080/"
        },
        "outputId": "ad7f2656-901a-4769-ef89-4aa65e01b09e"
      },
      "execution_count": null,
      "outputs": [
        {
          "output_type": "stream",
          "name": "stdout",
          "text": [
            "[5, 4, 3, 2, 1]\n",
            "[5, 4, 3, 2, 1]\n"
          ]
        }
      ]
    },
    {
      "cell_type": "markdown",
      "source": [
        "Pick one of the following options:\n",
        "\n",
        "* reverse1 is better\n",
        "\n",
        "* reverse2 is better\n",
        "\n",
        "* Both are the same\n",
        "\n",
        "Provide your answer here.\n",
        "\n",
        "**reverse2 is better as it uses in-place swappings and does not use space**\n"
      ],
      "metadata": {
        "id": "z_-vi7RS_05M"
      }
    },
    {
      "cell_type": "markdown",
      "source": [
        "12.c\n",
        "What are the time and space complexities for reverse1 and reverse2?\n",
        "Provide your answer here.\n",
        "\n",
        "*  reverse1: time: O(n), space O(n)\n",
        "*  reverse2: time: O(n), space O(1)\n",
        "\n",
        "\n",
        "\n"
      ],
      "metadata": {
        "id": "oaqzz7jnBcC9"
      }
    },
    {
      "cell_type": "markdown",
      "source": [
        "12.d.\n",
        " What is the time complexity of the following code?"
      ],
      "metadata": {
        "id": "bfHMP7JrH9by"
      }
    },
    {
      "cell_type": "code",
      "source": [
        "def bubble_sort(arr):\n",
        "    n = len(arr)\n",
        "    for i in range(n):\n",
        "        for j in range(0, n-1):\n",
        "            if arr[j] > arr[j+1]:\n",
        "                arr[j], arr[j+1] = arr[j+1], arr[j]\n",
        "    return arr\n",
        "\n",
        "if __name__ == \"__main__\":\n",
        "  data = [64, 34, 25, 12, 22, 11, 90]\n",
        "  print(bubble_sort(data))"
      ],
      "metadata": {
        "id": "q7671e-hHeMw",
        "colab": {
          "base_uri": "https://localhost:8080/"
        },
        "outputId": "c96951e5-fccd-4388-cb3a-b63398d29b8c"
      },
      "execution_count": null,
      "outputs": [
        {
          "output_type": "stream",
          "name": "stdout",
          "text": [
            "[11, 12, 22, 25, 34, 64, 90]\n"
          ]
        }
      ]
    },
    {
      "cell_type": "markdown",
      "source": [
        "Provide your answer here.\n",
        "**O(n^2) - the bubble sort algorithm sorts an array of integers in ascending order.**\n",
        "\n",
        "13. What is the space complexity of the previous script?\n",
        "Provide your answer here.\n",
        "**O(1) - it does not use any extra space.**\n"
      ],
      "metadata": {
        "id": "jLy-1MlIBrnk"
      }
    },
    {
      "cell_type": "markdown",
      "source": [
        "14. Examine the next code."
      ],
      "metadata": {
        "id": "Xcl-LvPQBuz7"
      }
    },
    {
      "cell_type": "code",
      "source": [
        "def bubble_sort_count1(arr):\n",
        "    n = len(arr)\n",
        "    count_n=0\n",
        "    for i in range(n):\n",
        "        for j in range(0, n-1):\n",
        "            if arr[j] > arr[j+1]:\n",
        "                arr[j], arr[j+1] = arr[j+1], arr[j]\n",
        "            count_n+=1\n",
        "    return count_n\n",
        "\n",
        "if __name__ == \"__main__\":\n",
        "  data = [10, 9, 88, 7, 62, 5, 43]\n",
        "  print(bubble_sort_count1(data))"
      ],
      "metadata": {
        "colab": {
          "base_uri": "https://localhost:8080/"
        },
        "id": "AOSG8Qm8B0Us",
        "outputId": "357138f2-3a37-4e69-e43e-7232333753a4"
      },
      "execution_count": null,
      "outputs": [
        {
          "output_type": "stream",
          "name": "stdout",
          "text": [
            "42\n"
          ]
        }
      ]
    },
    {
      "cell_type": "markdown",
      "source": [
        "15. What is the purpose of this script?\n",
        "Provide your answer here.\n",
        "Counts the total number of iterations (find n) -\n",
        "**Total iterations=n×(n−1)=7×(7−1)=7×6=42**\n",
        "\n",
        "16. What is the time complexity of this script?\n",
        "Provide your answer here.\n",
        "**O(n^2)**"
      ],
      "metadata": {
        "id": "Q-hbBkoVB24M"
      }
    },
    {
      "cell_type": "markdown",
      "source": [
        "17. Analyse the Provided Code."
      ],
      "metadata": {
        "id": "322mRfpFB_pN"
      }
    },
    {
      "cell_type": "code",
      "source": [
        " def bubble_sort_count2(arr):\n",
        "    n = len(arr)\n",
        "    count_n=0\n",
        "    for i in range(n):\n",
        "        for j in range(0, n-1):\n",
        "            if arr[j] > arr[j+1]:\n",
        "                arr[j], arr[j+1] = arr[j+1], arr[j]\n",
        "                count_n+=1\n",
        "    return count_n\n",
        "\n",
        "if __name__ == \"__main__\":\n",
        "  data = [10, 9, 88, 7, 62, 5, 43]\n",
        "  print(bubble_sort_count2(data))"
      ],
      "metadata": {
        "colab": {
          "base_uri": "https://localhost:8080/"
        },
        "id": "SheO4I5wCEWa",
        "outputId": "a8fdbcb3-fee6-4a77-abaf-b2288dbb1059"
      },
      "execution_count": null,
      "outputs": [
        {
          "output_type": "stream",
          "name": "stdout",
          "text": [
            "12\n"
          ]
        }
      ]
    },
    {
      "cell_type": "markdown",
      "source": [
        "18. What is the purpose of the script?\n",
        "Provide your answer here.\n",
        "**It counts the swappings.**\n",
        "\n",
        "19. Why does it output 12?\n",
        "Provide your answer here.\n",
        "**There were 12 swappings to sort the list.**\n",
        "\n",
        "20. What is the purpose of the script below:\n"
      ],
      "metadata": {
        "id": "E3ZADYryCFSb"
      }
    },
    {
      "cell_type": "code",
      "source": [
        "def bubble_sort_count3(arr):\n",
        "    n = len(arr)\n",
        "    count_n=0\n",
        "    for i in range(n):\n",
        "        for j in range(0, n-1-i):\n",
        "            if arr[j] > arr[j+1]:\n",
        "                arr[j], arr[j+1] = arr[j+1], arr[j]\n",
        "            count_n+=1\n",
        "    return count_n\n",
        "\n",
        "if __name__ == \"__main__\":\n",
        "  data = [10, 9, 88, 7, 62, 5, 43]\n",
        "  print(bubble_sort_count3(data))"
      ],
      "metadata": {
        "colab": {
          "base_uri": "https://localhost:8080/"
        },
        "id": "wfX7z4AOCOdG",
        "outputId": "05d3f625-2312-4ed5-c22c-d945ea11f199"
      },
      "execution_count": null,
      "outputs": [
        {
          "output_type": "stream",
          "name": "stdout",
          "text": [
            "21\n"
          ]
        }
      ]
    },
    {
      "cell_type": "markdown",
      "source": [
        "21. Why does it output 21?\n",
        "Provide your answer here.\n",
        "\n",
        "**Because of the condition for j in range(0, n-1-i) the loop excludes the one already ordered. When i=0, it runs 6 times (n-1). When i=1, it runs five times (n-2). When i=2, it runs 4 times (n-3). So 6+5+4+3+2+1 = 21.**\n",
        "\n",
        "**Practically, the complexity refers to the sum of the first 6 natural numbers: O(n(n+1)/2) that generalises to O(n^2)**\n",
        "\n",
        "\n",
        "22. What is the time complexity of this script?"
      ],
      "metadata": {
        "id": "DPzISZM9CQus"
      }
    },
    {
      "cell_type": "code",
      "source": [
        "def binary_search(arr, target):\n",
        "    left, right = 0, len(arr) - 1\n",
        "    while left <= right:\n",
        "        mid = left + (right - left) // 2 # // means integer division (5//2)=2 :)\n",
        "        if arr[mid] == target:\n",
        "            return mid\n",
        "        elif arr[mid] < target:\n",
        "            left = mid + 1\n",
        "        else:\n",
        "            right = mid - 1\n",
        "    return -1\n",
        "\n",
        "if __name__ == \"__main__\":\n",
        "  data = [10, 19, 28, 32, 45, 55, 66]\n",
        "  target = 28\n",
        "  print(binary_search(data, target))"
      ],
      "metadata": {
        "colab": {
          "base_uri": "https://localhost:8080/"
        },
        "id": "MRA_P1uSCV-H",
        "outputId": "8835c870-b859-495b-ad55-a5190ef77511"
      },
      "execution_count": null,
      "outputs": [
        {
          "output_type": "stream",
          "name": "stdout",
          "text": [
            "2\n"
          ]
        }
      ]
    },
    {
      "cell_type": "markdown",
      "source": [
        "Provide your answer here.\n",
        "\n",
        "**O(log(n)) - Binary search to find an element in a sorted array and return its index if found, otherwise return -1**\n",
        "\n",
        "23. The following script generates all the possible permutations of a given list. Without running the script, can you define the time complexity of this script?"
      ],
      "metadata": {
        "id": "_5JLEo_UCXrt"
      }
    },
    {
      "cell_type": "code",
      "source": [
        "from itertools import permutations\n",
        "\n",
        "def all_permutations(elements):\n",
        "    return list(permutations(elements))\n",
        "\n",
        "if __name__ == \"__main__\":\n",
        "  elements = [1, 2, 3]\n",
        "  print(all_permutations(elements))\n",
        "\n",
        "# The script outputs:\n",
        "# [(1, 2, 3), (1, 3, 2), (2, 1, 3), (2, 3, 1), (3, 1, 2), (3, 2, 1)]"
      ],
      "metadata": {
        "colab": {
          "base_uri": "https://localhost:8080/"
        },
        "id": "RsCmSFAlCdDe",
        "outputId": "2513fe12-2047-438c-89e6-faf38cd4c61e"
      },
      "execution_count": null,
      "outputs": [
        {
          "output_type": "stream",
          "name": "stdout",
          "text": [
            "[(1, 2, 3), (1, 3, 2), (2, 1, 3), (2, 3, 1), (3, 1, 2), (3, 2, 1)]\n"
          ]
        }
      ]
    },
    {
      "cell_type": "markdown",
      "source": [
        "Provide your answer here.\n",
        "**O(n!)**\n",
        "24. What is the length of the output list if the input list has 5 numbers?\n",
        "Provide your answer here.\n",
        "**5!=120**\n",
        "25. What is the computational complexity of the following script?\n",
        "The script uses the bubble_sort and the binary_search functions.\n",
        "\n"
      ],
      "metadata": {
        "id": "IDjSiFHvCin7"
      }
    },
    {
      "cell_type": "code",
      "source": [
        "if __name__ == \"__main__\":\n",
        "  data = [10,2,4,6,22,3,55,12]\n",
        "  print(binary_search(bubble_sort(data), 10))"
      ],
      "metadata": {
        "id": "AHPKhwlHCnjw",
        "colab": {
          "base_uri": "https://localhost:8080/"
        },
        "outputId": "0c715f7f-0972-4f44-b7ef-21f69207d2aa"
      },
      "execution_count": null,
      "outputs": [
        {
          "output_type": "stream",
          "name": "stdout",
          "text": [
            "4\n"
          ]
        }
      ]
    },
    {
      "cell_type": "markdown",
      "source": [
        "Provide your answer here.\n",
        "**O(n^2) > O(log(n)) ≈ O(n^2)**"
      ],
      "metadata": {
        "id": "UNpLeixnCpJS"
      }
    },
    {
      "cell_type": "markdown",
      "source": [
        "### **BDA Seminar 1 - Part 2**\n",
        "**Complete the following exercises on creating small programs.**\n",
        "\n",
        "1. Examine the following code. The script calculates the time needed to run the all_permutations function."
      ],
      "metadata": {
        "id": "UkxWMBCoCvbl"
      }
    },
    {
      "cell_type": "code",
      "source": [
        "import time\n",
        "from itertools import permutations\n",
        "\n",
        "def all_permutations(elements):\n",
        "    return list(permutations(elements))\n",
        "\n",
        "if __name__ == \"__main__\":\n",
        "  elements=[1,2,3,4,5,6,7,8,9,10,11]\n",
        "  # Start the timer\n",
        "  start = time.time()\n",
        "  result = all_permutations(elements)\n",
        "  # End the timer\n",
        "  end = time.time()\n",
        "\n",
        "  print(f'Total time to run (seconds):',round(end-start,4))"
      ],
      "metadata": {
        "colab": {
          "base_uri": "https://localhost:8080/"
        },
        "id": "BdW8J0X4C0Ok",
        "outputId": "0dba6cdc-9c39-4571-9c5d-ed40509d756e"
      },
      "execution_count": null,
      "outputs": [
        {
          "output_type": "stream",
          "name": "stdout",
          "text": [
            "Total time to run (seconds): 14.4221\n"
          ]
        }
      ]
    },
    {
      "cell_type": "markdown",
      "source": [
        "2. Let's begin by downloading our initial large file, the Common Password List (rockyou.txt). Download the file from  [Common Passwords List in Kaggle.](https://https://www.kaggle.com/datasets/wjburns/common-password-list-rockyoutxt)\n",
        "\n",
        "Download the file and save it in the same directory as your Python script.\n",
        "\n",
        "3. Examine the following script. The script extracts each line of our file using the strip that removes any leading or trailing whitespace."
      ],
      "metadata": {
        "id": "bTLoZuNSC5Wt"
      }
    },
    {
      "cell_type": "code",
      "source": [
        "if __name__ == \"__main__\":\n",
        "  with open('/content/drive/MyDrive/BDA_2024/BDA_lab_1/rockyou.txt', 'r',encoding='ISO-8859-1') as file:\n",
        "    for line in file:\n",
        "      # Strip newline and whitespace from the line\n",
        "      current_password = line.strip()\n",
        "      print(current_password)\n",
        "      break"
      ],
      "metadata": {
        "colab": {
          "base_uri": "https://localhost:8080/"
        },
        "id": "3mZdGSbHC-wl",
        "outputId": "a0558508-0060-42e7-fd4e-7866f55b6595"
      },
      "execution_count": null,
      "outputs": [
        {
          "output_type": "stream",
          "name": "stdout",
          "text": [
            "123456\n"
          ]
        }
      ]
    },
    {
      "cell_type": "markdown",
      "source": [
        "Tip\n",
        "\n",
        "ISO 8859-1 is the ISO standard Latin-1 character set and encoding format.\n",
        "\n",
        "4. How many passwords are in the file?"
      ],
      "metadata": {
        "id": "VDFvfp3kDBI8"
      }
    },
    {
      "cell_type": "code",
      "source": [
        "def count_pass(file_path):\n",
        "  count=0\n",
        "  try:\n",
        "    count=0\n",
        "    with open(file_path, 'r',encoding='ISO-8859-1') as file:\n",
        "      for line in file:\n",
        "        count+=1\n",
        "    return count\n",
        "  except Exception as e:\n",
        "        print(f\"An error occurred: {e}\")\n",
        "        return False\n",
        "\n",
        "## Use the following main\n",
        "if __name__ == \"__main__\":\n",
        "  print(count_pass('/content/drive/MyDrive/BDA_2024/BDA_lab_1/rockyou.txt'))"
      ],
      "metadata": {
        "colab": {
          "base_uri": "https://localhost:8080/"
        },
        "id": "0D_GAaUADB4F",
        "outputId": "acae7c79-005e-4775-91d7-b716b1cf3888"
      },
      "execution_count": null,
      "outputs": [
        {
          "output_type": "stream",
          "name": "stdout",
          "text": [
            "14344391\n"
          ]
        }
      ]
    },
    {
      "cell_type": "markdown",
      "source": [
        "There are 14344391 passwords; make sure your result is correct.\n",
        "\n",
        "Tip\n",
        "\n",
        "When working with files, use the except FileNotFoundError .\n",
        "\n",
        "5. What is the computational complexity of the above script?\n",
        "Provide your answer here.\n",
        "**Time: O(n), Space O(1)**\n",
        "\n",
        "6. Create a search_password function to search for a password in a given file.\n"
      ],
      "metadata": {
        "id": "UuJhVNajDK1v"
      }
    },
    {
      "cell_type": "code",
      "source": [
        "\n",
        "import os\n",
        "\n",
        "def search_password(file_path, target_password):\n",
        "    # Check if the file exists\n",
        "    if not os.path.exists(file_path):\n",
        "        print(\"The file does not exist.\")\n",
        "        return False\n",
        "\n",
        "    # Open the file and search for the password\n",
        "    try:\n",
        "        with open(file_path, 'r',encoding='ISO-8859-1') as file:\n",
        "            for line in file:\n",
        "                # Strip newline and whitespace from the line\n",
        "                current_password = line.strip()\n",
        "                if current_password == target_password:\n",
        "                    return True\n",
        "    except Exception as e:\n",
        "        print(f\"An error occurred: {e}\")\n",
        "        return False\n",
        "\n",
        "    return False\n",
        "\n",
        "\n",
        "if __name__ == \"__main__\":\n",
        "    file_path = input(\"Enter the path to the password file: \")\n",
        "    target_password = input(\"Enter the password to search for: \")\n",
        "    found = search_password(file_path, target_password)\n",
        "    if found:\n",
        "        print(\"Password found.\")\n",
        "    else:\n",
        "        print(\"Password not found.\")"
      ],
      "metadata": {
        "colab": {
          "base_uri": "https://localhost:8080/"
        },
        "id": "6NenYUu8DB-c",
        "outputId": "8d5e663c-4706-4b1b-91ce-a46a73c19427"
      },
      "execution_count": null,
      "outputs": [
        {
          "output_type": "stream",
          "name": "stdout",
          "text": [
            "Enter the path to the password file: /content/drive/MyDrive/BDA_2024/BDA_lab_1/rockyou.txt\n",
            "Enter the password to search for: puss\n",
            "Password found.\n"
          ]
        }
      ]
    },
    {
      "cell_type": "markdown",
      "source": [
        "7. Calculate the time to find:\n",
        "\n",
        "\n",
        "* 1234\n",
        "* 1233242432\n",
        "* mary\n",
        "\n",
        "\n",
        "8. Does your input affect the time complexity?\n",
        "Provide your answer here.\n",
        "**No! The complexity is not related to the inputs.**\n",
        "\n",
        " The following tasks are challenging.\n",
        "\n",
        "9. Create a script to find out if there are any duplicated records in the rockyou.txt file.\n",
        "Store your results in a list.\n",
        "For this script, you have to use a nested loop.\n",
        "🕐 Try only using the first 25 records. Otherwise, this script might run for hours!\n",
        "\n",
        "Then, run it for the whole dataset. Is it ever finished?"
      ],
      "metadata": {
        "id": "M4hHEPBWDa-X"
      }
    },
    {
      "cell_type": "code",
      "source": [
        "def check_duplicates1(file_path):\n",
        "    result=[]\n",
        "    try:\n",
        "        count=0\n",
        "        # Open the file and read all lines into a list\n",
        "        with open(file_path, 'r', encoding='ISO-8859-1') as file:\n",
        "            records = file.readlines()\n",
        "\n",
        "        # Clean whitespace and newlines from each line\n",
        "        records = [record.strip() for record in records]\n",
        "\n",
        "        # Compare each record with every other record\n",
        "        num_records = len(records)\n",
        "        for i in range(num_records):\n",
        "            if count==25:\n",
        "              break\n",
        "            for j in range(i + 1, num_records):\n",
        "                if records[i] == records[j]:\n",
        "                    # print(f\"Duplicate record found: {records[i],i}\")\n",
        "                    result.append(records[i])\n",
        "            count+=1\n",
        "        print(f\"I stop the search in count: {count}\")\n",
        "        return result\n",
        "\n",
        "        # If no duplicates are found after all comparisons\n",
        "        print(\"No duplicate records found.\")\n",
        "        return False\n",
        "\n",
        "    except FileNotFoundError:\n",
        "        print(\"Error: The file does not exist.\")\n",
        "        return False\n",
        "    except Exception as e:\n",
        "        print(f\"An error occurred: {e}\")\n",
        "        return False\n",
        "\n",
        "\n",
        "if __name__ == \"__main__\":\n",
        "    file_path = \"/content/drive/MyDrive/BDA_2024/BDA_lab_1/rockyou.txt\"\n",
        "    check_duplicates1(file_path)\n"
      ],
      "metadata": {
        "colab": {
          "base_uri": "https://localhost:8080/"
        },
        "id": "9-yIuGzyDufH",
        "outputId": "7a8ef2ff-f5df-4437-d412-b421968e9aa3"
      },
      "execution_count": null,
      "outputs": [
        {
          "output_type": "stream",
          "name": "stdout",
          "text": [
            "I stop the search in count: 25\n"
          ]
        }
      ]
    },
    {
      "cell_type": "markdown",
      "source": [
        "10. What is the space complexity?\n",
        "Provide your answer here.\n",
        "**O(n)**\n",
        "\n",
        "11. Create a script to find the duplicated records in the rockyou.txt file.\n",
        "Use a set instead of a list to store your data.\n",
        "Print a set of the duplicated values at the end."
      ],
      "metadata": {
        "id": "uUJn2aH6DytY"
      }
    },
    {
      "cell_type": "code",
      "source": [
        "# Provide your solution here\n",
        "\n",
        "def check_duplicates2(file_path):\n",
        "    seen = set()\n",
        "    duplicates = set()\n",
        "\n",
        "    try:\n",
        "        with open(file_path, 'r', encoding='ISO-8859-1') as file:\n",
        "            for line_number, line in enumerate(file, 1):\n",
        "                record = line.strip()\n",
        "                if record in seen:\n",
        "                    duplicates.add(record)\n",
        "                else:\n",
        "                    seen.add(record)\n",
        "\n",
        "        if duplicates:\n",
        "            print(\"Duplicates found:\")\n",
        "            print(duplicates)\n",
        "            return True\n",
        "        else:\n",
        "            print(\"No duplicates found.\")\n",
        "            return False\n",
        "\n",
        "    except FileNotFoundError:\n",
        "        print(f\"The file {file_path} does not exist.\")\n",
        "\n",
        "if __name__ == \"__main__\":\n",
        "    file_path = \"/content/drive/MyDrive/BDA_2024/BDA_lab_1/rockyou.txt\"\n",
        "    check_duplicates2(file_path)"
      ],
      "metadata": {
        "colab": {
          "base_uri": "https://localhost:8080/"
        },
        "id": "iVhrayAfD4m_",
        "outputId": "713bc539-fc76-41b2-d65e-c08377bb3b06"
      },
      "execution_count": null,
      "outputs": [
        {
          "output_type": "stream",
          "name": "stdout",
          "text": [
            "Duplicates found:\n",
            "{'', 'avril', 'batang', '19941994', 'i love u', 'cutiesmile', '729826', 'victoria', 'michelle.', 'promotia 2009', 'gerald', 'lucia', 'samantha1', 'spoons', 'joselyn', 'gaza', 'Claire', 'primola', 'hendrix', '123mango', 'blood05', '12345656', '123', 'lorena', 'chastity', 'mutunake', 'betty', 'palmeras', 'hans', 'hello', 'password1', 'daniel', 'gekko', 'iloves1', 'paul', 'km81088', 'dong', 'pistol1', 'Shannon', '26867147s', 'johnny1', 'viviana', 'frogs77', 'malditas', 'Nelson1', 'hugo', 'amistad', 'roxanna', 'arisandi', '230886', 'kumasi', 'wasak', 'alina', 'fabio', 'riyan', 'butterfly', 'fuck u', 'virgilio', 'PLEASURE', 'marcos', 'gary', 'dalia', 'dios es amor', 'c5688768', 'timothy01', 'bruninho', 'trenice', 'pumkin', 'alma', 'margaret', 'castillo', 'RockYou', '1983', 'daisy', 'liam', 'bernardo', '00000', 'i rock', 'spikes', 'loveable', 'te odio', 'sandra', 'akon', 'reg7344', 'boogies', '711523', '02071996', 'alexander', 'lisa2008', 'budlight', 'stephanie', 'jhony', 'melvin1', '54321', 'gwada971', 'joshua3', 'stephania', 'danza', '1923', 'Machuca', 'darwin', '262531', '885522', 'tucker', 'jennifer', 'jelisa', 'francisco', 'espinal', 'xNnWo6272k7x', 'marie', 'les', 'harry', 'teamwork', 'nickjonas', 'axellee', 'gerald1989', 'sophia', 'kristenanne', 'pepe', 'trish5', 'iluveddie1', 'daniella', '29grafist', 'arturo', 'chido', 'elisa', 'rere', 'rotterdam', 'alisha', 'freek', 'lovehim9', 'BRENDA', '4ever', 'rock on', 'beth', 'valerian', 'oswaldo', 'lisseth', 'welverst1', 'tim123', 'yara', 'hamster', 'babigurl1', 'loli', 'madman', '1lovemarco', 'carina', 'sarah', 'fatcat', 'mychemical', 'password', 'jamie i love u', 'sleepless', 'maka', '101010', 'amo a omar', 'TE KIERO', 'kuvhlubkoj', 'hunnibear9', 'fairys1', 'wagner', 'mark', 'de', 'lorraine', 'freaky', 'lynsey1', 'gennick', 'fooball1', 'liliana', 'i love you', '1234567890', 'lollipop', 'indicom', 'elseve', 'gateway05', 'joyland1', 'elisha', '7', 'maryse', 'gian', '3879', 'jennyeva22', 'ingrid', 'green1day', 'kelvin', '110786', 'JONATHAN', 'babilonia', 'kimberley', 'debra', 'amiller', 'jayleen', 'edinson', 'kaila', 'yahia', 'julissa87', 'motagua', 'babys', 'harley1996', 'alianza', 'milk!!', 'liver', 'tequedo', 'dany', 'gto', 'michelle', 'swindon', 'kevin', 'qazwsxedc', 'b1tch3s', 'safe', 'safc', 'greenday', 'catalina', 'martin1518', 'johnwalter', 'melissa', 'JOSE', 'chantelle', 'aaaa', 'king', 'justin', 'football18', 'Lauren', 'qwerty56', '1990', 'andy', 'cruz147', 'pitufina', 'shunoguri', 'damaris', 'santi', 'jodie', 'shayne', 'angel', 'P@ssw0rd', 'i love boys', 'mar', '5 15', 'netscape72', 'dragonrider', 'sexy', 'puff2864', 'pasco', 'trinity05', 'anwar', 'lee min ho', 'siako', 'dayita', 'andrea', 'leoteamomucho', 'playboy', 'hpq123', '0 0 0', 'yoporsiempre', 'barbara', 'volvo', 'verdes', 'helow', 'honda99', 'britney', 'margarita', 'teleras', 'mgs', 'tuxpan', 'tsubasa', 'sinead', 'shutup', 'cody', 'mario', 'qaz', 'no', 'enrique', 'nirvana1', '1dadoz', 'confirm2', 'mijas', 'santiago', 'charlene', 'pussycatdolls', 'cottam', 'natalia', 'talavera', 'italia', 'hell ya', '20042006', 'lovely87', 'fabiola', 'america', '0123456789', 'amri', 'te quiero', 'ovation', 'edgard', 'atlanta.', 'spazin1', '0125512093', 'genesis', 'lauris', 'shannon', 'preto', 'monster', 'lady gaga', 'gago', 'storm', 'dobble', 'tomoe', 'dec2012', 'adrian', 'rock', 'joshua', 'jack', 'Torres', 'joel021', 'genics', 'qazwsxedc1', 'hoihan', 'dunks', 'jesselover', 'cristo', 'tequiero', 'lulu', '1friends1', 'cowboys', 'laanne', 'aoife', 'i am the best', 'fashion', 'astig', 'isaiah', 'vane', 'sexme', 'lover', 'raymond11', 'ozzy', 'estrella', 'ghurl', 'minnie', 'danzig', 'angela', 'danny', 'babyphat', 'kaitlynn4', 'tata', 'jupanu', 'elsie', 'amigas', 'sept12', 'magee3', '000', 'gateway', 'kiko', 'jose', 'paramore', 'iluvmark2', 'tracey', 'gary1031', 'anne', 'delfinariu', 'luisa', 'English', 'marquan', 'love', 'reussite', 'dizzy', 'shadow', 'scotland', 'sergioteamo', '23321', 'bitch', 'marcela', 'mendez', 'saints', 'chevelle11', 'teame', 'r', 'macario', 'brian89', 'KYLE', '1', 'jordan', 'danish', 'hoodboy', 'santana', '121212', 'hola', 'stfu', 'perra', 'jaja', '123456789', 'brandy', 'rockyou', 'carlos', 'chili917', '326598', 'toni', 'leonidas', 'bianca', 'ihearthim1', 'twilight', 'school13', 'cowgirl21', 'alexandra', 'orlando', 'bill', 'hadrian', 'markinho', 'john', 'jonh', 'rawr12', 'petrica', 'nan', 'antonella', 'cookie', 'nella', 'karen', 'panda', '1111', '1loveu', 'jordab', 'jessy', 'REYLEON', 'sexyback', 'titio', 'sasha', '12345', 'warface', 'princesita', 'mared', 'fuck', 'athena', '333', 'hilario', '791021', 'fredo', 'loser9', 'nile', 'ROMEO', 'HAIRTAI', 'erikamichelle', 'fulton', 'nisrina', 'sarahi', 'joel', 'sponge', 'makasi', 'degrassi', '555', '1421980', 'nenita', 'god143', 'carrie', 'smilebig!', 'kaylan', 'madona', 'lovee', 'crip crip', 'mikey4', 'ya mum', 'rotherham', 'maicol', 'noodles10', 'omar120', 'lord', 'yuliana', 'rabbit', 'mariposa2009', 'mara', 'jessica', '1Lizzie', 'nam', 'hitherehi', 'edna', '026429328', 'marissa1', '21486', 'elsony', 'birdie23', 'ganda', 'juan', 'chito', 'avelina', 'mariana', 'analucia', 'ladykitz', 'woohoo', 'camaro1', 'anggandako', 'patito123', 'alex', 'cocaine', 'mollie', 'i love cory', 'matavesi', 'loves', 'lalito', 'SOUTHPARK', '0897466392', 'tekopua', 'luvjuan13', 'fernando', 'bcdah', 'beaver', 'power70', 'mishel1', 'riza', 'tony', 'lauren', 'bye bye', 'babasonicos', 'loquita', 'aloe vera', 'vanessa', 'Lovable', 'christian', 'fabian', 'holler11', 'nilson', 'MONCHA', 'excel15', 'mahecha', 'me me me', 'angelica', 'conyeubome', 'tania', 'veronas', 'musik', 'elizabeth', 'dominguez', 'babilon', 'titi', 'luis', 'te amo', 'yesica', 'mariano', 'besinal', 'walter', 'sexy boi', 'junior', '199616', 'rosalinda', 'nikki', 'bears', '25', 'mrmmrm', 'snook39786', 'miguel', 'gordito', 'julia', 'andres', 'veronica', 'salmoran', '0874541616', 'animegirl1', 'navi', 'ronaldo7', 'ztarz', 'abc123.', 'HAMZA', '130696', 'hiya', 'cunt', 'louise84', 'kelani1', 'carmen', 'maso', 'hyde', 'ashly112', 'babyface', 'susana', 'get rich', 'cheese', 'angelo', 'rafael', 'benzbenz', 'teamonn', 'angels', 'wildcat73', 'libra', 'amor', 'jorge', 'laylanie', 'flakita', 'felicia69', 'oscar05', '5 1 5', '2300', '1234567', '0', 'riley15', 'poope3', 'andrea95', 'Me', 'mendoza22', 'mariah20', 'guns', 'mendoza', 'juanjose', '123456', 'katherinn', 'sara', 'password.', 'babyrhodes', 'rickey1', 'marcelo', 'nicole', 'fotos', 'cristina', 'katyruvi', 'marisol', 'yanira', '230993'}\n"
          ]
        }
      ]
    },
    {
      "cell_type": "markdown",
      "source": [
        "12. What is this script's time and space complexity if you don't use a set? What is when using sets?\n",
        "Provide your answer here.\n",
        "Time:\n",
        "Space:\n",
        "\n",
        "**O(n^2) without, O(n) with sets 😀 -\n",
        "but you used extra space - the seen set - still is O(n) space.**"
      ],
      "metadata": {
        "id": "rOPhawRrD52g"
      }
    },
    {
      "cell_type": "markdown",
      "source": [
        "The end."
      ],
      "metadata": {
        "id": "5Wj784zVD_QM"
      }
    }
  ]
}