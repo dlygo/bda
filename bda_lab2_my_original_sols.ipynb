{
  "nbformat": 4,
  "nbformat_minor": 0,
  "metadata": {
    "colab": {
      "provenance": [],
      "mount_file_id": "16IxUyPBQ-p9lJY1i9bYSrQY5_kZrskuF",
      "authorship_tag": "ABX9TyMFbD86FEAcAqs8+CoadzZg",
      "include_colab_link": true
    },
    "kernelspec": {
      "name": "python3",
      "display_name": "Python 3"
    },
    "language_info": {
      "name": "python"
    }
  },
  "cells": [
    {
      "cell_type": "markdown",
      "metadata": {
        "id": "view-in-github",
        "colab_type": "text"
      },
      "source": [
        "<a href=\"https://colab.research.google.com/github/dlygo/bda/blob/main/bda_lab2_my_original_sols.ipynb\" target=\"_parent\"><img src=\"https://colab.research.google.com/assets/colab-badge.svg\" alt=\"Open In Colab\"/></a>"
      ]
    },
    {
      "cell_type": "code",
      "source": [
        "# Warmup 1\n",
        "\n",
        "alist=[-10,-5,0,4,9]\n",
        "\n",
        "for i in alist:\n",
        "  print(i)"
      ],
      "metadata": {
        "colab": {
          "base_uri": "https://localhost:8080/"
        },
        "id": "XBq9W62zhrlq",
        "outputId": "e6f6d323-77d0-40f8-8155-c6d9b87ed82e"
      },
      "execution_count": null,
      "outputs": [
        {
          "output_type": "stream",
          "name": "stdout",
          "text": [
            "-10\n",
            "-5\n",
            "0\n",
            "4\n",
            "9\n"
          ]
        }
      ]
    },
    {
      "cell_type": "code",
      "source": [
        "# Warmup 2\n",
        "\n",
        "alist = [-10,-5,0,4,9]\n",
        "\n",
        "left = 0\n",
        "for i in alist:\n",
        "  print(left)\n",
        "  left+=1"
      ],
      "metadata": {
        "colab": {
          "base_uri": "https://localhost:8080/"
        },
        "id": "angZuv_PiEsm",
        "outputId": "22abd4d7-0f50-46d0-fd8a-1a609bf98df9"
      },
      "execution_count": null,
      "outputs": [
        {
          "output_type": "stream",
          "name": "stdout",
          "text": [
            "0\n",
            "1\n",
            "2\n",
            "3\n",
            "4\n"
          ]
        }
      ]
    },
    {
      "cell_type": "code",
      "source": [
        "# Warmup 3\n",
        "\n",
        "alist=[-10,-5,0,4,9]\n",
        "\n",
        "for i in alist:\n",
        "  if i>=0:\n",
        "    print(i)"
      ],
      "metadata": {
        "colab": {
          "base_uri": "https://localhost:8080/"
        },
        "id": "pgutXelii6I2",
        "outputId": "1c390843-c661-4e18-b894-cfd9b976c468"
      },
      "execution_count": null,
      "outputs": [
        {
          "output_type": "stream",
          "name": "stdout",
          "text": [
            "0\n",
            "4\n",
            "9\n"
          ]
        }
      ]
    },
    {
      "cell_type": "code",
      "source": [
        "# Warmup 4\n",
        "\n",
        "alist=[-10,-5,0,4,9]\n",
        "\n",
        "new_list = []\n",
        "\n",
        "for i in alist:\n",
        "  if i>=0:\n",
        "    new_list.append(i)\n",
        "    print(new_list)"
      ],
      "metadata": {
        "colab": {
          "base_uri": "https://localhost:8080/"
        },
        "id": "IS6VI4RsjMnO",
        "outputId": "01418af9-e1fd-4303-9f59-eb8c5a973925"
      },
      "execution_count": null,
      "outputs": [
        {
          "output_type": "stream",
          "name": "stdout",
          "text": [
            "[0]\n",
            "[0, 4]\n",
            "[0, 4, 9]\n"
          ]
        }
      ]
    },
    {
      "cell_type": "code",
      "source": [
        "# Warmup 5\n",
        "\n",
        "alist=[-10,-5,0,4,9]\n",
        "\n",
        "count = 0\n",
        "sum = 0\n",
        "for i in alist:\n",
        "  sum += i\n",
        "  count+=1\n",
        "\n",
        "print(sum/count)"
      ],
      "metadata": {
        "colab": {
          "base_uri": "https://localhost:8080/"
        },
        "id": "mR80pk9WkdTE",
        "outputId": "ced167fe-7793-48d5-f67f-51b9fd702ded"
      },
      "execution_count": null,
      "outputs": [
        {
          "output_type": "stream",
          "name": "stdout",
          "text": [
            "-0.4\n"
          ]
        }
      ]
    },
    {
      "cell_type": "code",
      "source": [
        "# Warmup 6\n",
        "\n",
        "alist = [4,6,8,10]\n",
        "\n",
        "print(alist[-1])"
      ],
      "metadata": {
        "colab": {
          "base_uri": "https://localhost:8080/"
        },
        "id": "GaUihCe8lVHU",
        "outputId": "ca4f226b-30a2-47d6-e9cf-9b76d9f573cf"
      },
      "execution_count": null,
      "outputs": [
        {
          "output_type": "stream",
          "name": "stdout",
          "text": [
            "10\n"
          ]
        }
      ]
    },
    {
      "cell_type": "code",
      "source": [
        "\n",
        "\n",
        "# Warmup 7\n",
        "\n",
        "# Find the max of a list of positive integers.\n",
        "\n",
        "# Provide your solution here\n",
        "\n",
        "def findMax(alist):\n",
        "  mymax=0\n",
        "  for i in alist:\n",
        "    if i>mymax:\n",
        "      mymax=i\n",
        "\n",
        "  return mymax\n",
        "\n",
        "alist = [4,6,8,10]\n",
        "findMax(alist)\n",
        "\n"
      ],
      "metadata": {
        "colab": {
          "base_uri": "https://localhost:8080/"
        },
        "id": "U39gcTuCloX9",
        "outputId": "aa044f44-b732-40b4-f442-86a7fbd58786"
      },
      "execution_count": null,
      "outputs": [
        {
          "output_type": "execute_result",
          "data": {
            "text/plain": [
              "10"
            ]
          },
          "metadata": {},
          "execution_count": 16
        }
      ]
    },
    {
      "cell_type": "code",
      "source": [
        "#E1.1\n",
        "\n",
        "alist = [-10,-5,0,4,9]\n",
        "\n",
        "count=0\n",
        "\n",
        "for i in alist:\n",
        "  count+=1\n",
        "  print(alist[-count])\n",
        "\n",
        "\n"
      ],
      "metadata": {
        "colab": {
          "base_uri": "https://localhost:8080/"
        },
        "id": "bxCerXuFnWq0",
        "outputId": "b9d546ae-a934-404f-9202-6c1321d0b496"
      },
      "execution_count": null,
      "outputs": [
        {
          "output_type": "stream",
          "name": "stdout",
          "text": [
            "9\n",
            "4\n",
            "0\n",
            "-5\n",
            "-10\n"
          ]
        }
      ]
    },
    {
      "cell_type": "code",
      "source": [
        "#E1.2\n",
        "\n",
        "# Provide your solution here\n",
        "alist = [-10,-5,0,4,9]\n",
        "\n",
        "# i is the index..\n",
        "for i in range(len(alist) - 1, -1, -1):\n",
        "  print(i)\n",
        "  if alist[i]<0:\n",
        "    alist.pop(i)\n",
        "\n",
        "print(alist)\n",
        "\n"
      ],
      "metadata": {
        "colab": {
          "base_uri": "https://localhost:8080/"
        },
        "id": "qc5Cxd-mplf3",
        "outputId": "da381516-2db0-4947-860f-d0eae0dbc841"
      },
      "execution_count": null,
      "outputs": [
        {
          "output_type": "stream",
          "name": "stdout",
          "text": [
            "4\n",
            "3\n",
            "2\n",
            "1\n",
            "0\n",
            "[0, 4, 9]\n"
          ]
        }
      ]
    },
    {
      "cell_type": "code",
      "source": [
        "#E1.2-part only\n",
        "\n",
        "for i in range(len(alist) - 1, -1, -1):\n",
        "  print(i)"
      ],
      "metadata": {
        "colab": {
          "base_uri": "https://localhost:8080/"
        },
        "id": "i6B-AixGpqYa",
        "outputId": "13608c98-107f-4536-953f-0927e395319d"
      },
      "execution_count": null,
      "outputs": [
        {
          "output_type": "stream",
          "name": "stdout",
          "text": [
            "4\n",
            "3\n",
            "2\n",
            "1\n",
            "0\n"
          ]
        }
      ]
    },
    {
      "cell_type": "code",
      "source": [
        "#E1.3\n",
        "\n",
        "secret=\"secret\"\n",
        "while(True):\n",
        "  user = input(\"Enter the password: \")\n",
        "  if user == secret:\n",
        "    break\n",
        "print(\"Password accepted!\")"
      ],
      "metadata": {
        "colab": {
          "base_uri": "https://localhost:8080/"
        },
        "id": "G84E4MCKqZ8h",
        "outputId": "acffa08e-ec6b-402d-8c07-b0e7f0bf3a96"
      },
      "execution_count": null,
      "outputs": [
        {
          "output_type": "stream",
          "name": "stdout",
          "text": [
            "Enter the password: se\n",
            "Enter the password: secret\n",
            "Password accepted!\n"
          ]
        }
      ]
    },
    {
      "cell_type": "code",
      "source": [
        "#E1.4 Reverse elements of list.\n",
        "\n",
        "alist = [1,4,7,8]\n",
        "You have to create your own mylen function for this task.\n",
        "\n",
        "\n",
        "Can you do it with time O(n) and space O(1)?\n",
        "Hack 🤔\n",
        "Create two pointers, one at 0 index and one at index 3.\n",
        "Increase the first index while reducing the second index at each iteration to achieve swappings.\n",
        "This will allow to use: time O(n) and space O(1).\n",
        "\n"
      ],
      "metadata": {
        "id": "8-giBE8ksXPg"
      },
      "execution_count": null,
      "outputs": []
    },
    {
      "cell_type": "code",
      "source": [
        "#E2.1 Create a script to search a list for a specific key.\n",
        "\n",
        "Print True and stop the search upon first occurrence of the key.\n",
        "Otherwise, print False.\n",
        "Print only once at the end."
      ],
      "metadata": {
        "id": "8cO1kPGmsco2"
      },
      "execution_count": null,
      "outputs": []
    },
    {
      "cell_type": "code",
      "source": [
        "#E2.2\n",
        "alist = [10,20,30,40,50,60,70,80,90]\n",
        "\n",
        "\n",
        "# Provide your solution here\n",
        "\n",
        "def linearSearch(alist,key):\n",
        "  found=False\n",
        "  for i in alist:\n",
        "    if i==key:\n",
        "      found=True\n",
        "\n",
        "  return found\n",
        "\n",
        "\n",
        "\n",
        "print(linearSearch(alist,40))\n",
        "print(linearSearch(alist,140))"
      ],
      "metadata": {
        "colab": {
          "base_uri": "https://localhost:8080/"
        },
        "id": "RI2X9I1ruARO",
        "outputId": "b75fe492-14d5-4bde-e395-3494ad8434e9"
      },
      "execution_count": null,
      "outputs": [
        {
          "output_type": "stream",
          "name": "stdout",
          "text": [
            "True\n",
            "False\n"
          ]
        }
      ]
    },
    {
      "cell_type": "code",
      "source": [
        "# skip to 3.4 - the last one!\n",
        "\n",
        "alist = [10,10,20,20,20,30]\n",
        "freq = {}\n",
        "\n",
        "# Provide your solution here\n",
        "\n",
        "for i in alist:\n",
        "  if i not in freq:\n",
        "    freq[i]=1\n",
        "  else:\n",
        "    freq[i]+=1\n",
        "\n",
        "\n",
        "\n",
        "\n",
        "print(freq)"
      ],
      "metadata": {
        "colab": {
          "base_uri": "https://localhost:8080/"
        },
        "id": "uIzP1dvMwskl",
        "outputId": "c1494f47-c63f-4a8e-8cdc-20c7214e7dac"
      },
      "execution_count": null,
      "outputs": [
        {
          "output_type": "stream",
          "name": "stdout",
          "text": [
            "{10: 2, 20: 3, 30: 1}\n"
          ]
        }
      ]
    }
  ]
}